{
 "cells": [
  {
   "cell_type": "code",
   "execution_count": 1,
   "metadata": {},
   "outputs": [],
   "source": [
    "import csv\n",
    "\n",
    "import numpy as np\n",
    "import tensorflow as tf\n",
    "from sklearn.model_selection import train_test_split\n",
    "\n",
    "RANDOM_SEED = 42"
   ]
  },
  {
   "cell_type": "markdown",
   "metadata": {},
   "source": [
    "# 各パス指定"
   ]
  },
  {
   "cell_type": "code",
   "execution_count": 2,
   "metadata": {},
   "outputs": [],
   "source": [
    "dataset = 'model/keypoint_classifier/keypoint.csv'\n",
    "model_save_path = 'model/keypoint_classifier/keypoint_classifier.hdf5'"
   ]
  },
  {
   "cell_type": "markdown",
   "metadata": {},
   "source": [
    "# 分類数設定"
   ]
  },
  {
   "cell_type": "code",
   "execution_count": 3,
   "metadata": {},
   "outputs": [],
   "source": [
    "NUM_CLASSES = 5"
   ]
  },
  {
   "cell_type": "markdown",
   "metadata": {},
   "source": [
    "# 学習データ読み込み"
   ]
  },
  {
   "cell_type": "code",
   "execution_count": 4,
   "metadata": {},
   "outputs": [],
   "source": [
    "X_dataset = np.loadtxt(dataset, delimiter=',', dtype='float32', usecols=list(range(1, (21 * 2) + 1)))"
   ]
  },
  {
   "cell_type": "code",
   "execution_count": 5,
   "metadata": {},
   "outputs": [],
   "source": [
    "y_dataset = np.loadtxt(dataset, delimiter=',', dtype='int32', usecols=(0))"
   ]
  },
  {
   "cell_type": "code",
   "execution_count": 6,
   "metadata": {},
   "outputs": [],
   "source": [
    "X_train, X_test, y_train, y_test = train_test_split(X_dataset, y_dataset, train_size=0.75, random_state=RANDOM_SEED)"
   ]
  },
  {
   "cell_type": "markdown",
   "metadata": {},
   "source": [
    "# モデル構築"
   ]
  },
  {
   "cell_type": "code",
   "execution_count": 7,
   "metadata": {},
   "outputs": [],
   "source": [
    "model = tf.keras.models.Sequential([\n",
    "    tf.keras.layers.Input((21 * 2, )),\n",
    "    tf.keras.layers.Dropout(0.2),\n",
    "    tf.keras.layers.Dense(20, activation='relu'),\n",
    "    tf.keras.layers.Dropout(0.4),\n",
    "    tf.keras.layers.Dense(10, activation='relu'),\n",
    "    tf.keras.layers.Dense(NUM_CLASSES, activation='softmax')\n",
    "])"
   ]
  },
  {
   "cell_type": "code",
   "execution_count": 8,
   "metadata": {},
   "outputs": [
    {
     "name": "stdout",
     "output_type": "stream",
     "text": [
      "Model: \"sequential\"\n",
      "_________________________________________________________________\n",
      " Layer (type)                Output Shape              Param #   \n",
      "=================================================================\n",
      " dropout (Dropout)           (None, 42)                0         \n",
      "                                                                 \n",
      " dense (Dense)               (None, 20)                860       \n",
      "                                                                 \n",
      " dropout_1 (Dropout)         (None, 20)                0         \n",
      "                                                                 \n",
      " dense_1 (Dense)             (None, 10)                210       \n",
      "                                                                 \n",
      " dense_2 (Dense)             (None, 5)                 55        \n",
      "                                                                 \n",
      "=================================================================\n",
      "Total params: 1,125\n",
      "Trainable params: 1,125\n",
      "Non-trainable params: 0\n",
      "_________________________________________________________________\n"
     ]
    }
   ],
   "source": [
    "model.summary()  # tf.keras.utils.plot_model(model, show_shapes=True)"
   ]
  },
  {
   "cell_type": "code",
   "execution_count": 9,
   "metadata": {},
   "outputs": [],
   "source": [
    "# モデルチェックポイントのコールバック\n",
    "cp_callback = tf.keras.callbacks.ModelCheckpoint(\n",
    "    model_save_path, verbose=1, save_weights_only=False)\n",
    "# 早期打ち切り用コールバック\n",
    "es_callback = tf.keras.callbacks.EarlyStopping(patience=20, verbose=1)"
   ]
  },
  {
   "cell_type": "code",
   "execution_count": 10,
   "metadata": {},
   "outputs": [],
   "source": [
    "# モデルコンパイル\n",
    "model.compile(\n",
    "    optimizer='adam',\n",
    "    loss='sparse_categorical_crossentropy',\n",
    "    metrics=['accuracy']\n",
    ")"
   ]
  },
  {
   "cell_type": "markdown",
   "metadata": {},
   "source": [
    "# モデル訓練"
   ]
  },
  {
   "cell_type": "code",
   "execution_count": 11,
   "metadata": {
    "scrolled": true
   },
   "outputs": [
    {
     "name": "stdout",
     "output_type": "stream",
     "text": [
      "Epoch 1/1000\n",
      " 1/31 [..............................] - ETA: 18s - loss: 1.5878 - accuracy: 0.3359\n",
      "Epoch 1: saving model to model/keypoint_classifier\\keypoint_classifier.hdf5\n",
      "31/31 [==============================] - 1s 9ms/step - loss: 1.4213 - accuracy: 0.4485 - val_loss: 1.2234 - val_accuracy: 0.4950\n",
      "Epoch 2/1000\n",
      " 1/31 [..............................] - ETA: 0s - loss: 1.3091 - accuracy: 0.5312\n",
      "Epoch 2: saving model to model/keypoint_classifier\\keypoint_classifier.hdf5\n",
      "31/31 [==============================] - 0s 3ms/step - loss: 1.2281 - accuracy: 0.4873 - val_loss: 1.0793 - val_accuracy: 0.4965\n",
      "Epoch 3/1000\n",
      " 1/31 [..............................] - ETA: 0s - loss: 1.1166 - accuracy: 0.5078\n",
      "Epoch 3: saving model to model/keypoint_classifier\\keypoint_classifier.hdf5\n",
      "31/31 [==============================] - 0s 3ms/step - loss: 1.1187 - accuracy: 0.4777 - val_loss: 1.0294 - val_accuracy: 0.4988\n",
      "Epoch 4/1000\n",
      " 1/31 [..............................] - ETA: 0s - loss: 1.1201 - accuracy: 0.4297\n",
      "Epoch 4: saving model to model/keypoint_classifier\\keypoint_classifier.hdf5\n",
      "31/31 [==============================] - 0s 3ms/step - loss: 1.0678 - accuracy: 0.4915 - val_loss: 1.0061 - val_accuracy: 0.5004\n",
      "Epoch 5/1000\n",
      " 1/31 [..............................] - ETA: 0s - loss: 1.0710 - accuracy: 0.5547\n",
      "Epoch 5: saving model to model/keypoint_classifier\\keypoint_classifier.hdf5\n",
      "31/31 [==============================] - 0s 3ms/step - loss: 1.0515 - accuracy: 0.4834 - val_loss: 0.9846 - val_accuracy: 0.4988\n",
      "Epoch 6/1000\n",
      " 1/31 [..............................] - ETA: 0s - loss: 0.9754 - accuracy: 0.4922\n",
      "Epoch 6: saving model to model/keypoint_classifier\\keypoint_classifier.hdf5\n",
      "31/31 [==============================] - 0s 3ms/step - loss: 1.0241 - accuracy: 0.4930 - val_loss: 0.9605 - val_accuracy: 0.5159\n",
      "Epoch 7/1000\n",
      " 1/31 [..............................] - ETA: 0s - loss: 0.9510 - accuracy: 0.5703\n",
      "Epoch 7: saving model to model/keypoint_classifier\\keypoint_classifier.hdf5\n",
      "31/31 [==============================] - 0s 3ms/step - loss: 0.9979 - accuracy: 0.5078 - val_loss: 0.9413 - val_accuracy: 0.5299\n",
      "Epoch 8/1000\n",
      "31/31 [==============================] - ETA: 0s - loss: 0.9909 - accuracy: 0.5010\n",
      "Epoch 8: saving model to model/keypoint_classifier\\keypoint_classifier.hdf5\n",
      "31/31 [==============================] - 0s 4ms/step - loss: 0.9909 - accuracy: 0.5010 - val_loss: 0.9208 - val_accuracy: 0.5500\n",
      "Epoch 9/1000\n",
      " 1/31 [..............................] - ETA: 0s - loss: 0.9403 - accuracy: 0.5078\n",
      "Epoch 9: saving model to model/keypoint_classifier\\keypoint_classifier.hdf5\n",
      "31/31 [==============================] - 0s 3ms/step - loss: 0.9667 - accuracy: 0.5091 - val_loss: 0.9009 - val_accuracy: 0.5446\n",
      "Epoch 10/1000\n",
      " 1/31 [..............................] - ETA: 0s - loss: 1.0096 - accuracy: 0.4453\n",
      "Epoch 10: saving model to model/keypoint_classifier\\keypoint_classifier.hdf5\n",
      "31/31 [==============================] - 0s 3ms/step - loss: 0.9580 - accuracy: 0.5016 - val_loss: 0.8794 - val_accuracy: 0.5493\n",
      "Epoch 11/1000\n",
      " 1/31 [..............................] - ETA: 0s - loss: 0.9416 - accuracy: 0.6016\n",
      "Epoch 11: saving model to model/keypoint_classifier\\keypoint_classifier.hdf5\n",
      "31/31 [==============================] - 0s 3ms/step - loss: 0.9293 - accuracy: 0.5256 - val_loss: 0.8623 - val_accuracy: 0.5508\n",
      "Epoch 12/1000\n",
      " 1/31 [..............................] - ETA: 0s - loss: 0.9205 - accuracy: 0.5938\n",
      "Epoch 12: saving model to model/keypoint_classifier\\keypoint_classifier.hdf5\n",
      "31/31 [==============================] - 0s 3ms/step - loss: 0.9161 - accuracy: 0.5326 - val_loss: 0.8438 - val_accuracy: 0.5454\n",
      "Epoch 13/1000\n",
      " 1/31 [..............................] - ETA: 0s - loss: 0.9242 - accuracy: 0.4922\n",
      "Epoch 13: saving model to model/keypoint_classifier\\keypoint_classifier.hdf5\n",
      "31/31 [==============================] - 0s 3ms/step - loss: 0.8959 - accuracy: 0.5388 - val_loss: 0.8223 - val_accuracy: 0.5400\n",
      "Epoch 14/1000\n",
      " 1/31 [..............................] - ETA: 0s - loss: 0.9015 - accuracy: 0.4844\n",
      "Epoch 14: saving model to model/keypoint_classifier\\keypoint_classifier.hdf5\n",
      "31/31 [==============================] - 0s 3ms/step - loss: 0.8997 - accuracy: 0.5246 - val_loss: 0.8104 - val_accuracy: 0.5609\n",
      "Epoch 15/1000\n",
      " 1/31 [..............................] - ETA: 0s - loss: 0.9076 - accuracy: 0.5000\n",
      "Epoch 15: saving model to model/keypoint_classifier\\keypoint_classifier.hdf5\n",
      "31/31 [==============================] - 0s 3ms/step - loss: 0.8737 - accuracy: 0.5417 - val_loss: 0.7959 - val_accuracy: 0.5508\n",
      "Epoch 16/1000\n",
      " 1/31 [..............................] - ETA: 0s - loss: 0.9017 - accuracy: 0.5156\n",
      "Epoch 16: saving model to model/keypoint_classifier\\keypoint_classifier.hdf5\n",
      "31/31 [==============================] - 0s 3ms/step - loss: 0.8605 - accuracy: 0.5507 - val_loss: 0.7759 - val_accuracy: 0.5818\n",
      "Epoch 17/1000\n",
      " 1/31 [..............................] - ETA: 0s - loss: 0.8218 - accuracy: 0.5547\n",
      "Epoch 17: saving model to model/keypoint_classifier\\keypoint_classifier.hdf5\n",
      "31/31 [==============================] - 0s 3ms/step - loss: 0.8537 - accuracy: 0.5497 - val_loss: 0.7611 - val_accuracy: 0.6408\n",
      "Epoch 18/1000\n",
      " 1/31 [..............................] - ETA: 0s - loss: 0.8241 - accuracy: 0.5234\n",
      "Epoch 18: saving model to model/keypoint_classifier\\keypoint_classifier.hdf5\n",
      "31/31 [==============================] - 0s 3ms/step - loss: 0.8334 - accuracy: 0.5590 - val_loss: 0.7416 - val_accuracy: 0.6563\n",
      "Epoch 19/1000\n",
      " 1/31 [..............................] - ETA: 0s - loss: 0.8627 - accuracy: 0.5078\n",
      "Epoch 19: saving model to model/keypoint_classifier\\keypoint_classifier.hdf5\n",
      "31/31 [==============================] - 0s 3ms/step - loss: 0.8331 - accuracy: 0.5546 - val_loss: 0.7260 - val_accuracy: 0.6362\n",
      "Epoch 20/1000\n",
      " 1/31 [..............................] - ETA: 0s - loss: 0.7844 - accuracy: 0.5625\n",
      "Epoch 20: saving model to model/keypoint_classifier\\keypoint_classifier.hdf5\n",
      "31/31 [==============================] - 0s 3ms/step - loss: 0.8154 - accuracy: 0.5688 - val_loss: 0.7118 - val_accuracy: 0.6811\n",
      "Epoch 21/1000\n",
      " 1/31 [..............................] - ETA: 0s - loss: 0.8259 - accuracy: 0.5156\n",
      "Epoch 21: saving model to model/keypoint_classifier\\keypoint_classifier.hdf5\n",
      "31/31 [==============================] - 0s 3ms/step - loss: 0.8108 - accuracy: 0.5704 - val_loss: 0.7027 - val_accuracy: 0.6780\n",
      "Epoch 22/1000\n",
      "20/31 [==================>...........] - ETA: 0s - loss: 0.8040 - accuracy: 0.5902\n",
      "Epoch 22: saving model to model/keypoint_classifier\\keypoint_classifier.hdf5\n",
      "31/31 [==============================] - 0s 4ms/step - loss: 0.7997 - accuracy: 0.5854 - val_loss: 0.6885 - val_accuracy: 0.6920\n",
      "Epoch 23/1000\n",
      " 1/31 [..............................] - ETA: 0s - loss: 0.7827 - accuracy: 0.5625\n",
      "Epoch 23: saving model to model/keypoint_classifier\\keypoint_classifier.hdf5\n",
      "31/31 [==============================] - 0s 3ms/step - loss: 0.7903 - accuracy: 0.5792 - val_loss: 0.6801 - val_accuracy: 0.6462\n",
      "Epoch 24/1000\n",
      " 1/31 [..............................] - ETA: 0s - loss: 0.7811 - accuracy: 0.6016\n",
      "Epoch 24: saving model to model/keypoint_classifier\\keypoint_classifier.hdf5\n",
      "31/31 [==============================] - 0s 3ms/step - loss: 0.7862 - accuracy: 0.5908 - val_loss: 0.6716 - val_accuracy: 0.6998\n",
      "Epoch 25/1000\n",
      " 1/31 [..............................] - ETA: 0s - loss: 0.8170 - accuracy: 0.5469\n",
      "Epoch 25: saving model to model/keypoint_classifier\\keypoint_classifier.hdf5\n",
      "31/31 [==============================] - 0s 3ms/step - loss: 0.7823 - accuracy: 0.5898 - val_loss: 0.6641 - val_accuracy: 0.6951\n",
      "Epoch 26/1000\n",
      " 1/31 [..............................] - ETA: 0s - loss: 0.8412 - accuracy: 0.5625\n",
      "Epoch 26: saving model to model/keypoint_classifier\\keypoint_classifier.hdf5\n",
      "31/31 [==============================] - 0s 3ms/step - loss: 0.7846 - accuracy: 0.5797 - val_loss: 0.6581 - val_accuracy: 0.7067\n",
      "Epoch 27/1000\n",
      " 1/31 [..............................] - ETA: 0s - loss: 0.7452 - accuracy: 0.6406\n",
      "Epoch 27: saving model to model/keypoint_classifier\\keypoint_classifier.hdf5\n",
      "31/31 [==============================] - 0s 3ms/step - loss: 0.7680 - accuracy: 0.5994 - val_loss: 0.6462 - val_accuracy: 0.7106\n",
      "Epoch 28/1000\n",
      " 1/31 [..............................] - ETA: 0s - loss: 0.7576 - accuracy: 0.6953\n",
      "Epoch 28: saving model to model/keypoint_classifier\\keypoint_classifier.hdf5\n",
      "31/31 [==============================] - 0s 3ms/step - loss: 0.7625 - accuracy: 0.6056 - val_loss: 0.6382 - val_accuracy: 0.6843\n",
      "Epoch 29/1000\n",
      " 1/31 [..............................] - ETA: 0s - loss: 0.7060 - accuracy: 0.6797\n",
      "Epoch 29: saving model to model/keypoint_classifier\\keypoint_classifier.hdf5\n",
      "31/31 [==============================] - 0s 3ms/step - loss: 0.7504 - accuracy: 0.6144 - val_loss: 0.6297 - val_accuracy: 0.7215\n",
      "Epoch 30/1000\n",
      " 1/31 [..............................] - ETA: 0s - loss: 0.6736 - accuracy: 0.6406\n",
      "Epoch 30: saving model to model/keypoint_classifier\\keypoint_classifier.hdf5\n",
      "31/31 [==============================] - 0s 4ms/step - loss: 0.7563 - accuracy: 0.6095 - val_loss: 0.6246 - val_accuracy: 0.7704\n",
      "Epoch 31/1000\n",
      "31/31 [==============================] - ETA: 0s - loss: 0.7466 - accuracy: 0.6146\n",
      "Epoch 31: saving model to model/keypoint_classifier\\keypoint_classifier.hdf5\n",
      "31/31 [==============================] - 0s 4ms/step - loss: 0.7466 - accuracy: 0.6146 - val_loss: 0.6170 - val_accuracy: 0.8146\n",
      "Epoch 32/1000\n",
      " 1/31 [..............................] - ETA: 0s - loss: 0.7746 - accuracy: 0.5859\n",
      "Epoch 32: saving model to model/keypoint_classifier\\keypoint_classifier.hdf5\n",
      "31/31 [==============================] - 0s 3ms/step - loss: 0.7548 - accuracy: 0.6159 - val_loss: 0.6090 - val_accuracy: 0.7766\n",
      "Epoch 33/1000\n",
      " 1/31 [..............................] - ETA: 0s - loss: 0.6887 - accuracy: 0.6641\n",
      "Epoch 33: saving model to model/keypoint_classifier\\keypoint_classifier.hdf5\n",
      "31/31 [==============================] - 0s 3ms/step - loss: 0.7237 - accuracy: 0.6359 - val_loss: 0.5952 - val_accuracy: 0.7929\n",
      "Epoch 34/1000\n",
      " 1/31 [..............................] - ETA: 0s - loss: 0.7809 - accuracy: 0.6406\n",
      "Epoch 34: saving model to model/keypoint_classifier\\keypoint_classifier.hdf5\n",
      "31/31 [==============================] - 0s 3ms/step - loss: 0.7231 - accuracy: 0.6247 - val_loss: 0.5901 - val_accuracy: 0.7797\n",
      "Epoch 35/1000\n",
      " 1/31 [..............................] - ETA: 0s - loss: 0.6911 - accuracy: 0.6484\n",
      "Epoch 35: saving model to model/keypoint_classifier\\keypoint_classifier.hdf5\n",
      "31/31 [==============================] - 0s 3ms/step - loss: 0.7325 - accuracy: 0.6255 - val_loss: 0.5846 - val_accuracy: 0.7804\n",
      "Epoch 36/1000\n",
      " 1/31 [..............................] - ETA: 0s - loss: 0.7990 - accuracy: 0.6641\n",
      "Epoch 36: saving model to model/keypoint_classifier\\keypoint_classifier.hdf5\n",
      "31/31 [==============================] - 0s 3ms/step - loss: 0.7139 - accuracy: 0.6488 - val_loss: 0.5757 - val_accuracy: 0.8161\n",
      "Epoch 37/1000\n",
      " 1/31 [..............................] - ETA: 0s - loss: 0.7487 - accuracy: 0.6016\n",
      "Epoch 37: saving model to model/keypoint_classifier\\keypoint_classifier.hdf5\n",
      "31/31 [==============================] - 0s 3ms/step - loss: 0.7140 - accuracy: 0.6369 - val_loss: 0.5725 - val_accuracy: 0.8029\n",
      "Epoch 38/1000\n",
      " 1/31 [..............................] - ETA: 0s - loss: 0.7712 - accuracy: 0.5547\n",
      "Epoch 38: saving model to model/keypoint_classifier\\keypoint_classifier.hdf5\n",
      "31/31 [==============================] - 0s 3ms/step - loss: 0.7180 - accuracy: 0.6284 - val_loss: 0.5663 - val_accuracy: 0.8177\n",
      "Epoch 39/1000\n",
      " 1/31 [..............................] - ETA: 0s - loss: 0.6878 - accuracy: 0.6250\n",
      "Epoch 39: saving model to model/keypoint_classifier\\keypoint_classifier.hdf5\n",
      "31/31 [==============================] - 0s 4ms/step - loss: 0.7063 - accuracy: 0.6498 - val_loss: 0.5648 - val_accuracy: 0.8379\n",
      "Epoch 40/1000\n",
      " 1/31 [..............................] - ETA: 0s - loss: 0.6963 - accuracy: 0.6562\n",
      "Epoch 40: saving model to model/keypoint_classifier\\keypoint_classifier.hdf5\n",
      "31/31 [==============================] - 0s 3ms/step - loss: 0.7096 - accuracy: 0.6377 - val_loss: 0.5574 - val_accuracy: 0.8285\n",
      "Epoch 41/1000\n",
      " 1/31 [..............................] - ETA: 0s - loss: 0.7168 - accuracy: 0.6172\n",
      "Epoch 41: saving model to model/keypoint_classifier\\keypoint_classifier.hdf5\n",
      "31/31 [==============================] - 0s 3ms/step - loss: 0.7038 - accuracy: 0.6418 - val_loss: 0.5560 - val_accuracy: 0.8495\n",
      "Epoch 42/1000\n",
      " 1/31 [..............................] - ETA: 0s - loss: 0.6496 - accuracy: 0.7031\n",
      "Epoch 42: saving model to model/keypoint_classifier\\keypoint_classifier.hdf5\n",
      "31/31 [==============================] - 0s 3ms/step - loss: 0.6989 - accuracy: 0.6408 - val_loss: 0.5499 - val_accuracy: 0.8348\n",
      "Epoch 43/1000\n",
      " 1/31 [..............................] - ETA: 0s - loss: 0.7494 - accuracy: 0.6094\n",
      "Epoch 43: saving model to model/keypoint_classifier\\keypoint_classifier.hdf5\n",
      "31/31 [==============================] - 0s 3ms/step - loss: 0.6975 - accuracy: 0.6442 - val_loss: 0.5398 - val_accuracy: 0.8689\n",
      "Epoch 44/1000\n",
      " 1/31 [..............................] - ETA: 0s - loss: 0.8445 - accuracy: 0.5391\n",
      "Epoch 44: saving model to model/keypoint_classifier\\keypoint_classifier.hdf5\n",
      "31/31 [==============================] - 0s 3ms/step - loss: 0.7096 - accuracy: 0.6398 - val_loss: 0.5426 - val_accuracy: 0.8479\n",
      "Epoch 45/1000\n",
      " 1/31 [..............................] - ETA: 0s - loss: 0.6632 - accuracy: 0.6641\n",
      "Epoch 45: saving model to model/keypoint_classifier\\keypoint_classifier.hdf5\n",
      "31/31 [==============================] - 0s 3ms/step - loss: 0.7021 - accuracy: 0.6436 - val_loss: 0.5429 - val_accuracy: 0.8580\n",
      "Epoch 46/1000\n",
      "31/31 [==============================] - ETA: 0s - loss: 0.6819 - accuracy: 0.6511\n",
      "Epoch 46: saving model to model/keypoint_classifier\\keypoint_classifier.hdf5\n",
      "31/31 [==============================] - 0s 4ms/step - loss: 0.6819 - accuracy: 0.6511 - val_loss: 0.5276 - val_accuracy: 0.8154\n",
      "Epoch 47/1000\n",
      " 1/31 [..............................] - ETA: 0s - loss: 0.6820 - accuracy: 0.6328\n",
      "Epoch 47: saving model to model/keypoint_classifier\\keypoint_classifier.hdf5\n",
      "31/31 [==============================] - 0s 3ms/step - loss: 0.6936 - accuracy: 0.6467 - val_loss: 0.5306 - val_accuracy: 0.8464\n",
      "Epoch 48/1000\n",
      " 1/31 [..............................] - ETA: 0s - loss: 0.6615 - accuracy: 0.7031\n",
      "Epoch 48: saving model to model/keypoint_classifier\\keypoint_classifier.hdf5\n",
      "31/31 [==============================] - 0s 3ms/step - loss: 0.6723 - accuracy: 0.6636 - val_loss: 0.5184 - val_accuracy: 0.8573\n",
      "Epoch 49/1000\n",
      " 1/31 [..............................] - ETA: 0s - loss: 0.6244 - accuracy: 0.6875\n",
      "Epoch 49: saving model to model/keypoint_classifier\\keypoint_classifier.hdf5\n",
      "31/31 [==============================] - 0s 3ms/step - loss: 0.6714 - accuracy: 0.6548 - val_loss: 0.5260 - val_accuracy: 0.8751\n",
      "Epoch 50/1000\n",
      " 1/31 [..............................] - ETA: 0s - loss: 0.6863 - accuracy: 0.6875\n",
      "Epoch 50: saving model to model/keypoint_classifier\\keypoint_classifier.hdf5\n",
      "31/31 [==============================] - 0s 3ms/step - loss: 0.6742 - accuracy: 0.6628 - val_loss: 0.5151 - val_accuracy: 0.8433\n",
      "Epoch 51/1000\n",
      " 1/31 [..............................] - ETA: 0s - loss: 0.6161 - accuracy: 0.6797\n",
      "Epoch 51: saving model to model/keypoint_classifier\\keypoint_classifier.hdf5\n",
      "31/31 [==============================] - 0s 3ms/step - loss: 0.6904 - accuracy: 0.6568 - val_loss: 0.5217 - val_accuracy: 0.8673\n",
      "Epoch 52/1000\n",
      " 1/31 [..............................] - ETA: 0s - loss: 0.6463 - accuracy: 0.6719\n",
      "Epoch 52: saving model to model/keypoint_classifier\\keypoint_classifier.hdf5\n",
      "31/31 [==============================] - 0s 3ms/step - loss: 0.6725 - accuracy: 0.6612 - val_loss: 0.5113 - val_accuracy: 0.8712\n",
      "Epoch 53/1000\n",
      " 1/31 [..............................] - ETA: 0s - loss: 0.7738 - accuracy: 0.6641\n",
      "Epoch 53: saving model to model/keypoint_classifier\\keypoint_classifier.hdf5\n",
      "31/31 [==============================] - 0s 3ms/step - loss: 0.6807 - accuracy: 0.6506 - val_loss: 0.5100 - val_accuracy: 0.8790\n",
      "Epoch 54/1000\n",
      " 1/31 [..............................] - ETA: 0s - loss: 0.7451 - accuracy: 0.6484\n",
      "Epoch 54: saving model to model/keypoint_classifier\\keypoint_classifier.hdf5\n",
      "31/31 [==============================] - 0s 3ms/step - loss: 0.6853 - accuracy: 0.6447 - val_loss: 0.5078 - val_accuracy: 0.8635\n",
      "Epoch 55/1000\n",
      " 1/31 [..............................] - ETA: 0s - loss: 0.6970 - accuracy: 0.6875\n",
      "Epoch 55: saving model to model/keypoint_classifier\\keypoint_classifier.hdf5\n",
      "31/31 [==============================] - 0s 3ms/step - loss: 0.6797 - accuracy: 0.6615 - val_loss: 0.5088 - val_accuracy: 0.8898\n",
      "Epoch 56/1000\n",
      " 1/31 [..............................] - ETA: 0s - loss: 0.6110 - accuracy: 0.6875\n",
      "Epoch 56: saving model to model/keypoint_classifier\\keypoint_classifier.hdf5\n",
      "31/31 [==============================] - 0s 3ms/step - loss: 0.6589 - accuracy: 0.6641 - val_loss: 0.4939 - val_accuracy: 0.8534\n",
      "Epoch 57/1000\n",
      " 1/31 [..............................] - ETA: 0s - loss: 0.5599 - accuracy: 0.7031\n",
      "Epoch 57: saving model to model/keypoint_classifier\\keypoint_classifier.hdf5\n",
      "31/31 [==============================] - 0s 3ms/step - loss: 0.6689 - accuracy: 0.6674 - val_loss: 0.4903 - val_accuracy: 0.8743\n",
      "Epoch 58/1000\n",
      " 1/31 [..............................] - ETA: 0s - loss: 0.6572 - accuracy: 0.5938\n",
      "Epoch 58: saving model to model/keypoint_classifier\\keypoint_classifier.hdf5\n",
      "31/31 [==============================] - 0s 3ms/step - loss: 0.6633 - accuracy: 0.6623 - val_loss: 0.4939 - val_accuracy: 0.9030\n",
      "Epoch 59/1000\n",
      " 1/31 [..............................] - ETA: 0s - loss: 0.7791 - accuracy: 0.6406\n",
      "Epoch 59: saving model to model/keypoint_classifier\\keypoint_classifier.hdf5\n",
      "31/31 [==============================] - 0s 4ms/step - loss: 0.6620 - accuracy: 0.6685 - val_loss: 0.4868 - val_accuracy: 0.8619\n",
      "Epoch 60/1000\n",
      " 1/31 [..............................] - ETA: 0s - loss: 0.6117 - accuracy: 0.7656\n",
      "Epoch 60: saving model to model/keypoint_classifier\\keypoint_classifier.hdf5\n",
      "31/31 [==============================] - 0s 3ms/step - loss: 0.6567 - accuracy: 0.6739 - val_loss: 0.4820 - val_accuracy: 0.8650\n",
      "Epoch 61/1000\n",
      " 1/31 [..............................] - ETA: 0s - loss: 0.6211 - accuracy: 0.7266\n",
      "Epoch 61: saving model to model/keypoint_classifier\\keypoint_classifier.hdf5\n",
      "31/31 [==============================] - 0s 3ms/step - loss: 0.6465 - accuracy: 0.6783 - val_loss: 0.4867 - val_accuracy: 0.8658\n",
      "Epoch 62/1000\n",
      " 1/31 [..............................] - ETA: 0s - loss: 0.6837 - accuracy: 0.6328\n",
      "Epoch 62: saving model to model/keypoint_classifier\\keypoint_classifier.hdf5\n",
      "31/31 [==============================] - 0s 3ms/step - loss: 0.6439 - accuracy: 0.6744 - val_loss: 0.4812 - val_accuracy: 0.8658\n",
      "Epoch 63/1000\n",
      " 1/31 [..............................] - ETA: 0s - loss: 0.6556 - accuracy: 0.7109\n",
      "Epoch 63: saving model to model/keypoint_classifier\\keypoint_classifier.hdf5\n",
      "31/31 [==============================] - 0s 3ms/step - loss: 0.6458 - accuracy: 0.6819 - val_loss: 0.4758 - val_accuracy: 0.8798\n",
      "Epoch 64/1000\n",
      " 1/31 [..............................] - ETA: 0s - loss: 0.6557 - accuracy: 0.6094\n",
      "Epoch 64: saving model to model/keypoint_classifier\\keypoint_classifier.hdf5\n",
      "31/31 [==============================] - 0s 3ms/step - loss: 0.6384 - accuracy: 0.6856 - val_loss: 0.4697 - val_accuracy: 0.8984\n",
      "Epoch 65/1000\n",
      " 1/31 [..............................] - ETA: 0s - loss: 0.5923 - accuracy: 0.6953\n",
      "Epoch 65: saving model to model/keypoint_classifier\\keypoint_classifier.hdf5\n",
      "31/31 [==============================] - 0s 3ms/step - loss: 0.6428 - accuracy: 0.6825 - val_loss: 0.4769 - val_accuracy: 0.8976\n",
      "Epoch 66/1000\n",
      " 1/31 [..............................] - ETA: 0s - loss: 0.6013 - accuracy: 0.6797\n",
      "Epoch 66: saving model to model/keypoint_classifier\\keypoint_classifier.hdf5\n",
      "31/31 [==============================] - 0s 3ms/step - loss: 0.6473 - accuracy: 0.6654 - val_loss: 0.4717 - val_accuracy: 0.8262\n",
      "Epoch 67/1000\n",
      " 1/31 [..............................] - ETA: 0s - loss: 0.5618 - accuracy: 0.7266\n",
      "Epoch 67: saving model to model/keypoint_classifier\\keypoint_classifier.hdf5\n",
      "31/31 [==============================] - 0s 3ms/step - loss: 0.6467 - accuracy: 0.6716 - val_loss: 0.4826 - val_accuracy: 0.8991\n",
      "Epoch 68/1000\n",
      " 1/31 [..............................] - ETA: 0s - loss: 0.6820 - accuracy: 0.6406\n",
      "Epoch 68: saving model to model/keypoint_classifier\\keypoint_classifier.hdf5\n",
      "31/31 [==============================] - 0s 3ms/step - loss: 0.6418 - accuracy: 0.6812 - val_loss: 0.4678 - val_accuracy: 0.8829\n",
      "Epoch 69/1000\n",
      " 1/31 [..............................] - ETA: 0s - loss: 0.5885 - accuracy: 0.7109\n",
      "Epoch 69: saving model to model/keypoint_classifier\\keypoint_classifier.hdf5\n",
      "31/31 [==============================] - 0s 3ms/step - loss: 0.6483 - accuracy: 0.6801 - val_loss: 0.4763 - val_accuracy: 0.9030\n",
      "Epoch 70/1000\n",
      " 1/31 [..............................] - ETA: 0s - loss: 0.7038 - accuracy: 0.6406\n",
      "Epoch 70: saving model to model/keypoint_classifier\\keypoint_classifier.hdf5\n",
      "31/31 [==============================] - 0s 3ms/step - loss: 0.6536 - accuracy: 0.6726 - val_loss: 0.4724 - val_accuracy: 0.9038\n",
      "Epoch 71/1000\n",
      " 1/31 [..............................] - ETA: 0s - loss: 0.5960 - accuracy: 0.7031\n",
      "Epoch 71: saving model to model/keypoint_classifier\\keypoint_classifier.hdf5\n",
      "31/31 [==============================] - 0s 3ms/step - loss: 0.6365 - accuracy: 0.6819 - val_loss: 0.4623 - val_accuracy: 0.8929\n",
      "Epoch 72/1000\n",
      " 1/31 [..............................] - ETA: 0s - loss: 0.6348 - accuracy: 0.6562\n",
      "Epoch 72: saving model to model/keypoint_classifier\\keypoint_classifier.hdf5\n",
      "31/31 [==============================] - 0s 3ms/step - loss: 0.6504 - accuracy: 0.6879 - val_loss: 0.4681 - val_accuracy: 0.8743\n",
      "Epoch 73/1000\n",
      " 1/31 [..............................] - ETA: 0s - loss: 0.6831 - accuracy: 0.6328\n",
      "Epoch 73: saving model to model/keypoint_classifier\\keypoint_classifier.hdf5\n",
      "31/31 [==============================] - 0s 3ms/step - loss: 0.6454 - accuracy: 0.6773 - val_loss: 0.4710 - val_accuracy: 0.8984\n",
      "Epoch 74/1000\n",
      " 1/31 [..............................] - ETA: 0s - loss: 0.6158 - accuracy: 0.6562\n",
      "Epoch 74: saving model to model/keypoint_classifier\\keypoint_classifier.hdf5\n",
      "31/31 [==============================] - 0s 3ms/step - loss: 0.6480 - accuracy: 0.6783 - val_loss: 0.4652 - val_accuracy: 0.8929\n",
      "Epoch 75/1000\n",
      " 1/31 [..............................] - ETA: 0s - loss: 0.6752 - accuracy: 0.6719\n",
      "Epoch 75: saving model to model/keypoint_classifier\\keypoint_classifier.hdf5\n",
      "31/31 [==============================] - 0s 3ms/step - loss: 0.6271 - accuracy: 0.6980 - val_loss: 0.4704 - val_accuracy: 0.9178\n",
      "Epoch 76/1000\n",
      " 1/31 [..............................] - ETA: 0s - loss: 0.6550 - accuracy: 0.6562\n",
      "Epoch 76: saving model to model/keypoint_classifier\\keypoint_classifier.hdf5\n",
      "31/31 [==============================] - 0s 3ms/step - loss: 0.6344 - accuracy: 0.6874 - val_loss: 0.4590 - val_accuracy: 0.9030\n",
      "Epoch 77/1000\n",
      " 1/31 [..............................] - ETA: 0s - loss: 0.7013 - accuracy: 0.6406\n",
      "Epoch 77: saving model to model/keypoint_classifier\\keypoint_classifier.hdf5\n",
      "31/31 [==============================] - 0s 3ms/step - loss: 0.6276 - accuracy: 0.6938 - val_loss: 0.4596 - val_accuracy: 0.9224\n",
      "Epoch 78/1000\n",
      " 1/31 [..............................] - ETA: 0s - loss: 0.6537 - accuracy: 0.6719\n",
      "Epoch 78: saving model to model/keypoint_classifier\\keypoint_classifier.hdf5\n",
      "31/31 [==============================] - 0s 3ms/step - loss: 0.6258 - accuracy: 0.6869 - val_loss: 0.4683 - val_accuracy: 0.9007\n",
      "Epoch 79/1000\n",
      " 1/31 [..............................] - ETA: 0s - loss: 0.5730 - accuracy: 0.7344\n",
      "Epoch 79: saving model to model/keypoint_classifier\\keypoint_classifier.hdf5\n",
      "31/31 [==============================] - 0s 3ms/step - loss: 0.6164 - accuracy: 0.6907 - val_loss: 0.4633 - val_accuracy: 0.9139\n",
      "Epoch 80/1000\n",
      " 1/31 [..............................] - ETA: 0s - loss: 0.5421 - accuracy: 0.7734\n",
      "Epoch 80: saving model to model/keypoint_classifier\\keypoint_classifier.hdf5\n",
      "31/31 [==============================] - 0s 3ms/step - loss: 0.6202 - accuracy: 0.6977 - val_loss: 0.4509 - val_accuracy: 0.8968\n",
      "Epoch 81/1000\n",
      " 1/31 [..............................] - ETA: 0s - loss: 0.5651 - accuracy: 0.7031\n",
      "Epoch 81: saving model to model/keypoint_classifier\\keypoint_classifier.hdf5\n",
      "31/31 [==============================] - 0s 3ms/step - loss: 0.6312 - accuracy: 0.6848 - val_loss: 0.4513 - val_accuracy: 0.9147\n",
      "Epoch 82/1000\n",
      " 1/31 [..............................] - ETA: 0s - loss: 0.6733 - accuracy: 0.6797\n",
      "Epoch 82: saving model to model/keypoint_classifier\\keypoint_classifier.hdf5\n",
      "31/31 [==============================] - 0s 3ms/step - loss: 0.6186 - accuracy: 0.6920 - val_loss: 0.4624 - val_accuracy: 0.9116\n",
      "Epoch 83/1000\n",
      " 1/31 [..............................] - ETA: 0s - loss: 0.5936 - accuracy: 0.7266\n",
      "Epoch 83: saving model to model/keypoint_classifier\\keypoint_classifier.hdf5\n",
      "31/31 [==============================] - 0s 3ms/step - loss: 0.6362 - accuracy: 0.6871 - val_loss: 0.4540 - val_accuracy: 0.8883\n",
      "Epoch 84/1000\n",
      "30/31 [============================>.] - ETA: 0s - loss: 0.6196 - accuracy: 0.6914\n",
      "Epoch 84: saving model to model/keypoint_classifier\\keypoint_classifier.hdf5\n",
      "31/31 [==============================] - 0s 4ms/step - loss: 0.6202 - accuracy: 0.6915 - val_loss: 0.4606 - val_accuracy: 0.9178\n",
      "Epoch 85/1000\n",
      "30/31 [============================>.] - ETA: 0s - loss: 0.6183 - accuracy: 0.6938\n",
      "Epoch 85: saving model to model/keypoint_classifier\\keypoint_classifier.hdf5\n",
      "31/31 [==============================] - 0s 4ms/step - loss: 0.6173 - accuracy: 0.6941 - val_loss: 0.4421 - val_accuracy: 0.9131\n",
      "Epoch 86/1000\n",
      " 1/31 [..............................] - ETA: 0s - loss: 0.6206 - accuracy: 0.6406\n",
      "Epoch 86: saving model to model/keypoint_classifier\\keypoint_classifier.hdf5\n",
      "31/31 [==============================] - 0s 4ms/step - loss: 0.6301 - accuracy: 0.6889 - val_loss: 0.4557 - val_accuracy: 0.9077\n",
      "Epoch 87/1000\n",
      " 1/31 [..............................] - ETA: 0s - loss: 0.5082 - accuracy: 0.7188\n",
      "Epoch 87: saving model to model/keypoint_classifier\\keypoint_classifier.hdf5\n",
      "31/31 [==============================] - 0s 4ms/step - loss: 0.6090 - accuracy: 0.7047 - val_loss: 0.4457 - val_accuracy: 0.9201\n",
      "Epoch 88/1000\n",
      " 1/31 [..............................] - ETA: 0s - loss: 0.6659 - accuracy: 0.6953\n",
      "Epoch 88: saving model to model/keypoint_classifier\\keypoint_classifier.hdf5\n",
      "31/31 [==============================] - 0s 3ms/step - loss: 0.6190 - accuracy: 0.6995 - val_loss: 0.4570 - val_accuracy: 0.9185\n",
      "Epoch 89/1000\n",
      " 1/31 [..............................] - ETA: 0s - loss: 0.6562 - accuracy: 0.6953\n",
      "Epoch 89: saving model to model/keypoint_classifier\\keypoint_classifier.hdf5\n",
      "31/31 [==============================] - 0s 3ms/step - loss: 0.6052 - accuracy: 0.7050 - val_loss: 0.4599 - val_accuracy: 0.9147\n",
      "Epoch 90/1000\n",
      " 1/31 [..............................] - ETA: 0s - loss: 0.5327 - accuracy: 0.7812\n",
      "Epoch 90: saving model to model/keypoint_classifier\\keypoint_classifier.hdf5\n",
      "31/31 [==============================] - 0s 3ms/step - loss: 0.6069 - accuracy: 0.7011 - val_loss: 0.4588 - val_accuracy: 0.9216\n",
      "Epoch 91/1000\n",
      " 1/31 [..............................] - ETA: 0s - loss: 0.6068 - accuracy: 0.7266\n",
      "Epoch 91: saving model to model/keypoint_classifier\\keypoint_classifier.hdf5\n",
      "31/31 [==============================] - 0s 3ms/step - loss: 0.6153 - accuracy: 0.7032 - val_loss: 0.4404 - val_accuracy: 0.9193\n",
      "Epoch 92/1000\n",
      " 1/31 [..............................] - ETA: 0s - loss: 0.5600 - accuracy: 0.7656\n",
      "Epoch 92: saving model to model/keypoint_classifier\\keypoint_classifier.hdf5\n",
      "31/31 [==============================] - 0s 3ms/step - loss: 0.6224 - accuracy: 0.7021 - val_loss: 0.4478 - val_accuracy: 0.9247\n",
      "Epoch 93/1000\n",
      " 1/31 [..............................] - ETA: 0s - loss: 0.5977 - accuracy: 0.7031\n",
      "Epoch 93: saving model to model/keypoint_classifier\\keypoint_classifier.hdf5\n",
      "31/31 [==============================] - 0s 3ms/step - loss: 0.6027 - accuracy: 0.7060 - val_loss: 0.4427 - val_accuracy: 0.9069\n",
      "Epoch 94/1000\n",
      " 1/31 [..............................] - ETA: 0s - loss: 0.6094 - accuracy: 0.7266\n",
      "Epoch 94: saving model to model/keypoint_classifier\\keypoint_classifier.hdf5\n",
      "31/31 [==============================] - 0s 3ms/step - loss: 0.6176 - accuracy: 0.6962 - val_loss: 0.4531 - val_accuracy: 0.9022\n",
      "Epoch 95/1000\n",
      " 1/31 [..............................] - ETA: 0s - loss: 0.5632 - accuracy: 0.6953\n",
      "Epoch 95: saving model to model/keypoint_classifier\\keypoint_classifier.hdf5\n",
      "31/31 [==============================] - 0s 4ms/step - loss: 0.6014 - accuracy: 0.6964 - val_loss: 0.4411 - val_accuracy: 0.9240\n",
      "Epoch 96/1000\n",
      " 1/31 [..............................] - ETA: 0s - loss: 0.6441 - accuracy: 0.6641\n",
      "Epoch 96: saving model to model/keypoint_classifier\\keypoint_classifier.hdf5\n",
      "31/31 [==============================] - 0s 3ms/step - loss: 0.6151 - accuracy: 0.7016 - val_loss: 0.4619 - val_accuracy: 0.9085\n",
      "Epoch 97/1000\n",
      " 1/31 [..............................] - ETA: 0s - loss: 0.6997 - accuracy: 0.7422\n",
      "Epoch 97: saving model to model/keypoint_classifier\\keypoint_classifier.hdf5\n",
      "31/31 [==============================] - 0s 3ms/step - loss: 0.6020 - accuracy: 0.7037 - val_loss: 0.4529 - val_accuracy: 0.9294\n",
      "Epoch 98/1000\n",
      " 1/31 [..............................] - ETA: 0s - loss: 0.5970 - accuracy: 0.7266\n",
      "Epoch 98: saving model to model/keypoint_classifier\\keypoint_classifier.hdf5\n",
      "31/31 [==============================] - 0s 3ms/step - loss: 0.5956 - accuracy: 0.7158 - val_loss: 0.4375 - val_accuracy: 0.9201\n",
      "Epoch 99/1000\n",
      " 1/31 [..............................] - ETA: 0s - loss: 0.5782 - accuracy: 0.7500\n",
      "Epoch 99: saving model to model/keypoint_classifier\\keypoint_classifier.hdf5\n",
      "31/31 [==============================] - 0s 3ms/step - loss: 0.6067 - accuracy: 0.7055 - val_loss: 0.4436 - val_accuracy: 0.9224\n",
      "Epoch 100/1000\n",
      " 1/31 [..............................] - ETA: 0s - loss: 0.6556 - accuracy: 0.7031\n",
      "Epoch 100: saving model to model/keypoint_classifier\\keypoint_classifier.hdf5\n",
      "31/31 [==============================] - 0s 3ms/step - loss: 0.6020 - accuracy: 0.7006 - val_loss: 0.4524 - val_accuracy: 0.9279\n",
      "Epoch 101/1000\n",
      " 1/31 [..............................] - ETA: 0s - loss: 0.5336 - accuracy: 0.7734\n",
      "Epoch 101: saving model to model/keypoint_classifier\\keypoint_classifier.hdf5\n",
      "31/31 [==============================] - 0s 3ms/step - loss: 0.5932 - accuracy: 0.7177 - val_loss: 0.4437 - val_accuracy: 0.9279\n",
      "Epoch 102/1000\n",
      " 1/31 [..............................] - ETA: 0s - loss: 0.5728 - accuracy: 0.7891\n",
      "Epoch 102: saving model to model/keypoint_classifier\\keypoint_classifier.hdf5\n",
      "31/31 [==============================] - 0s 3ms/step - loss: 0.5982 - accuracy: 0.7156 - val_loss: 0.4195 - val_accuracy: 0.9154\n",
      "Epoch 103/1000\n",
      "31/31 [==============================] - ETA: 0s - loss: 0.6138 - accuracy: 0.7133\n",
      "Epoch 103: saving model to model/keypoint_classifier\\keypoint_classifier.hdf5\n",
      "31/31 [==============================] - 0s 4ms/step - loss: 0.6138 - accuracy: 0.7133 - val_loss: 0.4344 - val_accuracy: 0.8984\n",
      "Epoch 104/1000\n",
      " 1/31 [..............................] - ETA: 0s - loss: 0.5526 - accuracy: 0.6875\n",
      "Epoch 104: saving model to model/keypoint_classifier\\keypoint_classifier.hdf5\n",
      "31/31 [==============================] - 0s 4ms/step - loss: 0.6048 - accuracy: 0.7052 - val_loss: 0.4270 - val_accuracy: 0.9209\n",
      "Epoch 105/1000\n",
      "31/31 [==============================] - ETA: 0s - loss: 0.5952 - accuracy: 0.7127\n",
      "Epoch 105: saving model to model/keypoint_classifier\\keypoint_classifier.hdf5\n",
      "31/31 [==============================] - 0s 4ms/step - loss: 0.5952 - accuracy: 0.7127 - val_loss: 0.4285 - val_accuracy: 0.9279\n",
      "Epoch 106/1000\n",
      " 1/31 [..............................] - ETA: 0s - loss: 0.5685 - accuracy: 0.7734\n",
      "Epoch 106: saving model to model/keypoint_classifier\\keypoint_classifier.hdf5\n",
      "31/31 [==============================] - 0s 3ms/step - loss: 0.6062 - accuracy: 0.7166 - val_loss: 0.4327 - val_accuracy: 0.9147\n",
      "Epoch 107/1000\n",
      " 1/31 [..............................] - ETA: 0s - loss: 0.5448 - accuracy: 0.7500\n",
      "Epoch 107: saving model to model/keypoint_classifier\\keypoint_classifier.hdf5\n",
      "31/31 [==============================] - 0s 3ms/step - loss: 0.6099 - accuracy: 0.7130 - val_loss: 0.4327 - val_accuracy: 0.9310\n",
      "Epoch 108/1000\n",
      " 1/31 [..............................] - ETA: 0s - loss: 0.5985 - accuracy: 0.7109\n",
      "Epoch 108: saving model to model/keypoint_classifier\\keypoint_classifier.hdf5\n",
      "31/31 [==============================] - 0s 3ms/step - loss: 0.5872 - accuracy: 0.7210 - val_loss: 0.4302 - val_accuracy: 0.9139\n",
      "Epoch 109/1000\n",
      " 1/31 [..............................] - ETA: 0s - loss: 0.5052 - accuracy: 0.7500\n",
      "Epoch 109: saving model to model/keypoint_classifier\\keypoint_classifier.hdf5\n",
      "31/31 [==============================] - 0s 3ms/step - loss: 0.5973 - accuracy: 0.7241 - val_loss: 0.4280 - val_accuracy: 0.9364\n",
      "Epoch 110/1000\n",
      " 1/31 [..............................] - ETA: 0s - loss: 0.7830 - accuracy: 0.6484\n",
      "Epoch 110: saving model to model/keypoint_classifier\\keypoint_classifier.hdf5\n",
      "31/31 [==============================] - 0s 3ms/step - loss: 0.5872 - accuracy: 0.7195 - val_loss: 0.4563 - val_accuracy: 0.9162\n",
      "Epoch 111/1000\n",
      " 1/31 [..............................] - ETA: 0s - loss: 0.5664 - accuracy: 0.7188\n",
      "Epoch 111: saving model to model/keypoint_classifier\\keypoint_classifier.hdf5\n",
      "31/31 [==============================] - 0s 3ms/step - loss: 0.6047 - accuracy: 0.7192 - val_loss: 0.4246 - val_accuracy: 0.9255\n",
      "Epoch 112/1000\n",
      " 1/31 [..............................] - ETA: 0s - loss: 0.5676 - accuracy: 0.7344\n",
      "Epoch 112: saving model to model/keypoint_classifier\\keypoint_classifier.hdf5\n",
      "31/31 [==============================] - 0s 3ms/step - loss: 0.5941 - accuracy: 0.7316 - val_loss: 0.4424 - val_accuracy: 0.9364\n",
      "Epoch 113/1000\n",
      " 1/31 [..............................] - ETA: 0s - loss: 0.5795 - accuracy: 0.7031\n",
      "Epoch 113: saving model to model/keypoint_classifier\\keypoint_classifier.hdf5\n",
      "31/31 [==============================] - 0s 3ms/step - loss: 0.5942 - accuracy: 0.7195 - val_loss: 0.4294 - val_accuracy: 0.9201\n",
      "Epoch 114/1000\n",
      " 1/31 [..............................] - ETA: 0s - loss: 0.6728 - accuracy: 0.7188\n",
      "Epoch 114: saving model to model/keypoint_classifier\\keypoint_classifier.hdf5\n",
      "31/31 [==============================] - 0s 4ms/step - loss: 0.5710 - accuracy: 0.7228 - val_loss: 0.4230 - val_accuracy: 0.9286\n",
      "Epoch 115/1000\n",
      " 1/31 [..............................] - ETA: 0s - loss: 0.5327 - accuracy: 0.7734\n",
      "Epoch 115: saving model to model/keypoint_classifier\\keypoint_classifier.hdf5\n",
      "31/31 [==============================] - 0s 3ms/step - loss: 0.5992 - accuracy: 0.7192 - val_loss: 0.4382 - val_accuracy: 0.9108\n",
      "Epoch 116/1000\n",
      " 1/31 [..............................] - ETA: 0s - loss: 0.5579 - accuracy: 0.7422\n",
      "Epoch 116: saving model to model/keypoint_classifier\\keypoint_classifier.hdf5\n",
      "31/31 [==============================] - 0s 3ms/step - loss: 0.5713 - accuracy: 0.7355 - val_loss: 0.4374 - val_accuracy: 0.9379\n",
      "Epoch 117/1000\n",
      " 1/31 [..............................] - ETA: 0s - loss: 0.5597 - accuracy: 0.6641\n",
      "Epoch 117: saving model to model/keypoint_classifier\\keypoint_classifier.hdf5\n",
      "31/31 [==============================] - 0s 3ms/step - loss: 0.5830 - accuracy: 0.7249 - val_loss: 0.4399 - val_accuracy: 0.9271\n",
      "Epoch 118/1000\n",
      " 1/31 [..............................] - ETA: 0s - loss: 0.5559 - accuracy: 0.7344\n",
      "Epoch 118: saving model to model/keypoint_classifier\\keypoint_classifier.hdf5\n",
      "31/31 [==============================] - 0s 3ms/step - loss: 0.6066 - accuracy: 0.7127 - val_loss: 0.4446 - val_accuracy: 0.9279\n",
      "Epoch 119/1000\n",
      " 1/31 [..............................] - ETA: 0s - loss: 0.5857 - accuracy: 0.7344\n",
      "Epoch 119: saving model to model/keypoint_classifier\\keypoint_classifier.hdf5\n",
      "31/31 [==============================] - 0s 3ms/step - loss: 0.5923 - accuracy: 0.7109 - val_loss: 0.4450 - val_accuracy: 0.9232\n",
      "Epoch 120/1000\n",
      " 1/31 [..............................] - ETA: 0s - loss: 0.5428 - accuracy: 0.7734\n",
      "Epoch 120: saving model to model/keypoint_classifier\\keypoint_classifier.hdf5\n",
      "31/31 [==============================] - 0s 4ms/step - loss: 0.5769 - accuracy: 0.7308 - val_loss: 0.4463 - val_accuracy: 0.9123\n",
      "Epoch 121/1000\n",
      " 1/31 [..............................] - ETA: 0s - loss: 0.5653 - accuracy: 0.7266\n",
      "Epoch 121: saving model to model/keypoint_classifier\\keypoint_classifier.hdf5\n",
      "31/31 [==============================] - 0s 3ms/step - loss: 0.5776 - accuracy: 0.7283 - val_loss: 0.4272 - val_accuracy: 0.9185\n",
      "Epoch 122/1000\n",
      " 1/31 [..............................] - ETA: 0s - loss: 0.6099 - accuracy: 0.7578\n",
      "Epoch 122: saving model to model/keypoint_classifier\\keypoint_classifier.hdf5\n",
      "31/31 [==============================] - 0s 3ms/step - loss: 0.5716 - accuracy: 0.7308 - val_loss: 0.4227 - val_accuracy: 0.9279\n",
      "Epoch 122: early stopping\n"
     ]
    },
    {
     "data": {
      "text/plain": [
       "<keras.callbacks.History at 0x203bcdd7e20>"
      ]
     },
     "execution_count": 11,
     "metadata": {},
     "output_type": "execute_result"
    }
   ],
   "source": [
    "model.fit(\n",
    "    X_train,\n",
    "    y_train,\n",
    "    epochs=1000,\n",
    "    batch_size=128,\n",
    "    validation_data=(X_test, y_test),\n",
    "    callbacks=[cp_callback, es_callback]\n",
    ")"
   ]
  },
  {
   "cell_type": "code",
   "execution_count": 12,
   "metadata": {},
   "outputs": [
    {
     "name": "stdout",
     "output_type": "stream",
     "text": [
      "11/11 [==============================] - 0s 1ms/step - loss: 0.4227 - accuracy: 0.9279\n"
     ]
    }
   ],
   "source": [
    "# モデル評価\n",
    "val_loss, val_acc = model.evaluate(X_test, y_test, batch_size=128)"
   ]
  },
  {
   "cell_type": "code",
   "execution_count": 13,
   "metadata": {},
   "outputs": [],
   "source": [
    "# 保存したモデルのロード\n",
    "model = tf.keras.models.load_model(model_save_path)"
   ]
  },
  {
   "cell_type": "code",
   "execution_count": 14,
   "metadata": {},
   "outputs": [
    {
     "name": "stdout",
     "output_type": "stream",
     "text": [
      "1/1 [==============================] - 0s 77ms/step\n",
      "[4.2796266e-01 5.6849265e-01 3.4373247e-03 1.0600137e-04 1.4377575e-06]\n",
      "1\n"
     ]
    }
   ],
   "source": [
    "# 推論テスト\n",
    "predict_result = model.predict(np.array([X_test[0]]))\n",
    "print(np.squeeze(predict_result))\n",
    "print(np.argmax(np.squeeze(predict_result)))"
   ]
  },
  {
   "cell_type": "markdown",
   "metadata": {},
   "source": [
    "# 混同行列"
   ]
  },
  {
   "cell_type": "code",
   "execution_count": 15,
   "metadata": {},
   "outputs": [
    {
     "name": "stdout",
     "output_type": "stream",
     "text": [
      "41/41 [==============================] - 0s 806us/step\n"
     ]
    },
    {
     "data": {
      "image/png": "[encoded data removed]",
      "text/plain": [
       "<Figure size 700x600 with 2 Axes>"
      ]
     },
     "metadata": {},
     "output_type": "display_data"
    },
    {
     "name": "stdout",
     "output_type": "stream",
     "text": [
      "Classification Report\n",
      "              precision    recall  f1-score   support\n",
      "\n",
      "           0       0.94      0.87      0.91       509\n",
      "           1       0.92      0.96      0.94       636\n",
      "           2       0.88      0.96      0.92        69\n",
      "           3       1.00      0.99      0.99        75\n",
      "\n",
      "    accuracy                           0.93      1289\n",
      "   macro avg       0.93      0.94      0.94      1289\n",
      "weighted avg       0.93      0.93      0.93      1289\n",
      "\n"
     ]
    }
   ],
   "source": [
    "import pandas as pd\n",
    "import seaborn as sns\n",
    "import matplotlib.pyplot as plt\n",
    "from sklearn.metrics import confusion_matrix, classification_report\n",
    "\n",
    "def print_confusion_matrix(y_true, y_pred, report=True):\n",
    "    labels = sorted(list(set(y_true)))\n",
    "    cmx_data = confusion_matrix(y_true, y_pred, labels=labels)\n",
    "    \n",
    "    df_cmx = pd.DataFrame(cmx_data, index=labels, columns=labels)\n",
    " \n",
    "    fig, ax = plt.subplots(figsize=(7, 6))\n",
    "    sns.heatmap(df_cmx, annot=True, fmt='g' ,square=False)\n",
    "    ax.set_ylim(len(set(y_true)), 0)\n",
    "    plt.show()\n",
    "    \n",
    "    if report:\n",
    "        print('Classification Report')\n",
    "        print(classification_report(y_test, y_pred))\n",
    "\n",
    "Y_pred = model.predict(X_test)\n",
    "y_pred = np.argmax(Y_pred, axis=1)\n",
    "\n",
    "print_confusion_matrix(y_test, y_pred)"
   ]
  },
  {
   "cell_type": "markdown",
   "metadata": {},
   "source": [
    "# Tensorflow-Lite用のモデルへ変換"
   ]
  },
  {
   "cell_type": "code",
   "execution_count": 16,
   "metadata": {},
   "outputs": [],
   "source": [
    "# 推論専用のモデルとして保存\n",
    "model.save(model_save_path, include_optimizer=False)"
   ]
  },
  {
   "cell_type": "code",
   "execution_count": 17,
   "metadata": {},
   "outputs": [
    {
     "name": "stderr",
     "output_type": "stream",
     "text": [
      "WARNING:absl:Found untraced functions such as _update_step_xla while saving (showing 1 of 1). These functions will not be directly callable after loading.\n"
     ]
    },
    {
     "name": "stdout",
     "output_type": "stream",
     "text": [
      "INFO:tensorflow:Assets written to: C:\\Users\\rafae\\AppData\\Local\\Temp\\tmpjopfmya5\\assets\n"
     ]
    },
    {
     "name": "stderr",
     "output_type": "stream",
     "text": [
      "INFO:tensorflow:Assets written to: C:\\Users\\rafae\\AppData\\Local\\Temp\\tmpjopfmya5\\assets\n"
     ]
    },
    {
     "data": {
      "text/plain": [
       "6588"
      ]
     },
     "execution_count": 17,
     "metadata": {},
     "output_type": "execute_result"
    }
   ],
   "source": [
    "# モデルを変換(量子化)\n",
    "tflite_save_path = 'model/keypoint_classifier/keypoint_classifier.tflite'\n",
    "\n",
    "converter = tf.lite.TFLiteConverter.from_keras_model(model)\n",
    "converter.optimizations = [tf.lite.Optimize.DEFAULT]\n",
    "tflite_quantized_model = converter.convert()\n",
    "\n",
    "open(tflite_save_path, 'wb').write(tflite_quantized_model)"
   ]
  },
  {
   "cell_type": "markdown",
   "metadata": {},
   "source": [
    "# 推論テスト"
   ]
  },
  {
   "cell_type": "code",
   "execution_count": 18,
   "metadata": {},
   "outputs": [],
   "source": [
    "interpreter = tf.lite.Interpreter(model_path=tflite_save_path)\n",
    "interpreter.allocate_tensors()"
   ]
  },
  {
   "cell_type": "code",
   "execution_count": 19,
   "metadata": {},
   "outputs": [],
   "source": [
    "# 入出力テンソルを取得\n",
    "input_details = interpreter.get_input_details()\n",
    "output_details = interpreter.get_output_details()"
   ]
  },
  {
   "cell_type": "code",
   "execution_count": 20,
   "metadata": {},
   "outputs": [],
   "source": [
    "interpreter.set_tensor(input_details[0]['index'], np.array([X_test[0]]))"
   ]
  },
  {
   "cell_type": "code",
   "execution_count": 21,
   "metadata": {
    "scrolled": true
   },
   "outputs": [
    {
     "name": "stdout",
     "output_type": "stream",
     "text": [
      "CPU times: total: 0 ns\n",
      "Wall time: 971 µs\n"
     ]
    }
   ],
   "source": [
    "%%time\n",
    "# 推論実施\n",
    "interpreter.invoke()\n",
    "tflite_results = interpreter.get_tensor(output_details[0]['index'])"
   ]
  },
  {
   "cell_type": "code",
   "execution_count": 22,
   "metadata": {},
   "outputs": [
    {
     "name": "stdout",
     "output_type": "stream",
     "text": [
      "[4.2796257e-01 5.6849265e-01 3.4373230e-03 1.0600148e-04 1.4377549e-06]\n",
      "1\n"
     ]
    }
   ],
   "source": [
    "print(np.squeeze(tflite_results))\n",
    "print(np.argmax(np.squeeze(tflite_results)))"
   ]
  },
  {
   "cell_type": "code",
   "execution_count": null,
   "metadata": {},
   "outputs": [],
   "source": []
  }
 ],
 "metadata": {
  "kernelspec": {
   "display_name": "Python 3 (ipykernel)",
   "language": "python",
   "name": "python3"
  },
  "language_info": {
   "codemirror_mode": {
    "name": "ipython",
    "version": 3
   },
   "file_extension": ".py",
   "mimetype": "text/x-python",
   "name": "python",
   "nbconvert_exporter": "python",
   "pygments_lexer": "ipython3",
   "version": "3.8.9"
  }
 },
 "nbformat": 4,
 "nbformat_minor": 4
}
