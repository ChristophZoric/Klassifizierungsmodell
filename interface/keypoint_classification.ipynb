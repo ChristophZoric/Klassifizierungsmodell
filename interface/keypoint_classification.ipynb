{
 "cells": [
  {
   "cell_type": "code",
   "execution_count": 1,
   "metadata": {},
   "outputs": [],
   "source": [
    "import csv\n",
    "\n",
    "import numpy as np\n",
    "import tensorflow as tf\n",
    "from sklearn.model_selection import train_test_split\n",
    "\n",
    "RANDOM_SEED = 42"
   ]
  },
  {
   "cell_type": "markdown",
   "metadata": {},
   "source": [
    "# 各パス指定"
   ]
  },
  {
   "cell_type": "code",
   "execution_count": 2,
   "metadata": {},
   "outputs": [],
   "source": [
    "dataset = 'model/keypoint_classifier/keypoint.csv'\n",
    "model_save_path = 'model/keypoint_classifier/keypoint_classifier.hdf5'"
   ]
  },
  {
   "cell_type": "markdown",
   "metadata": {},
   "source": [
    "# 分類数設定"
   ]
  },
  {
   "cell_type": "code",
   "execution_count": 3,
   "metadata": {},
   "outputs": [],
   "source": [
    "NUM_CLASSES = 5"
   ]
  },
  {
   "cell_type": "markdown",
   "metadata": {},
   "source": [
    "# 学習データ読み込み"
   ]
  },
  {
   "cell_type": "code",
   "execution_count": 4,
   "metadata": {},
   "outputs": [],
   "source": [
    "X_dataset = np.loadtxt(dataset, delimiter=',', dtype='float32', usecols=list(range(1, (21 * 2) + 1)))"
   ]
  },
  {
   "cell_type": "code",
   "execution_count": 5,
   "metadata": {},
   "outputs": [],
   "source": [
    "y_dataset = np.loadtxt(dataset, delimiter=',', dtype='int32', usecols=(0))"
   ]
  },
  {
   "cell_type": "code",
   "execution_count": 6,
   "metadata": {},
   "outputs": [],
   "source": [
    "X_train, X_test, y_train, y_test = train_test_split(X_dataset, y_dataset, train_size=0.75, random_state=RANDOM_SEED)"
   ]
  },
  {
   "cell_type": "markdown",
   "metadata": {},
   "source": [
    "# モデル構築"
   ]
  },
  {
   "cell_type": "code",
   "execution_count": 7,
   "metadata": {},
   "outputs": [],
   "source": [
    "model = tf.keras.models.Sequential([\n",
    "    tf.keras.layers.Input((21 * 2, )),\n",
    "    tf.keras.layers.Dropout(0.2),\n",
    "    tf.keras.layers.Dense(20, activation='relu'),\n",
    "    tf.keras.layers.Dropout(0.4),\n",
    "    tf.keras.layers.Dense(10, activation='relu'),\n",
    "    tf.keras.layers.Dense(NUM_CLASSES, activation='softmax')\n",
    "])"
   ]
  },
  {
   "cell_type": "code",
   "execution_count": 8,
   "metadata": {},
   "outputs": [
    {
     "name": "stdout",
     "output_type": "stream",
     "text": [
      "Model: \"sequential\"\n",
      "_________________________________________________________________\n",
      " Layer (type)                Output Shape              Param #   \n",
      "=================================================================\n",
      " dropout (Dropout)           (None, 42)                0         \n",
      "                                                                 \n",
      " dense (Dense)               (None, 20)                860       \n",
      "                                                                 \n",
      " dropout_1 (Dropout)         (None, 20)                0         \n",
      "                                                                 \n",
      " dense_1 (Dense)             (None, 10)                210       \n",
      "                                                                 \n",
      " dense_2 (Dense)             (None, 5)                 55        \n",
      "                                                                 \n",
      "=================================================================\n",
      "Total params: 1,125\n",
      "Trainable params: 1,125\n",
      "Non-trainable params: 0\n",
      "_________________________________________________________________\n"
     ]
    }
   ],
   "source": [
    "model.summary()  # tf.keras.utils.plot_model(model, show_shapes=True)"
   ]
  },
  {
   "cell_type": "code",
   "execution_count": 9,
   "metadata": {},
   "outputs": [],
   "source": [
    "# モデルチェックポイントのコールバック\n",
    "cp_callback = tf.keras.callbacks.ModelCheckpoint(\n",
    "    model_save_path, verbose=1, save_weights_only=False)\n",
    "# 早期打ち切り用コールバック\n",
    "es_callback = tf.keras.callbacks.EarlyStopping(patience=20, verbose=1)"
   ]
  },
  {
   "cell_type": "code",
   "execution_count": 10,
   "metadata": {},
   "outputs": [],
   "source": [
    "# モデルコンパイル\n",
    "model.compile(\n",
    "    optimizer='adam',\n",
    "    loss='sparse_categorical_crossentropy',\n",
    "    metrics=['accuracy']\n",
    ")"
   ]
  },
  {
   "cell_type": "markdown",
   "metadata": {},
   "source": [
    "# モデル訓練"
   ]
  },
  {
   "cell_type": "code",
   "execution_count": 11,
   "metadata": {
    "scrolled": true
   },
   "outputs": [
    {
     "name": "stdout",
     "output_type": "stream",
     "text": [
      "Epoch 1/1000\n",
      " 1/25 [>.............................] - ETA: 12s - loss: 1.7805 - accuracy: 0.0625\n",
      "Epoch 1: saving model to model/keypoint_classifier\\keypoint_classifier.hdf5\n",
      "25/25 [==============================] - 1s 9ms/step - loss: 1.5806 - accuracy: 0.2419 - val_loss: 1.4295 - val_accuracy: 0.5071\n",
      "Epoch 2/1000\n",
      " 1/25 [>.............................] - ETA: 0s - loss: 1.4199 - accuracy: 0.4844\n",
      "Epoch 2: saving model to model/keypoint_classifier\\keypoint_classifier.hdf5\n",
      "25/25 [==============================] - 0s 3ms/step - loss: 1.3685 - accuracy: 0.4626 - val_loss: 1.2298 - val_accuracy: 0.5014\n",
      "Epoch 3/1000\n",
      " 1/25 [>.............................] - ETA: 0s - loss: 1.3113 - accuracy: 0.4609\n",
      "Epoch 3: saving model to model/keypoint_classifier\\keypoint_classifier.hdf5\n",
      "25/25 [==============================] - 0s 3ms/step - loss: 1.2198 - accuracy: 0.4889 - val_loss: 1.1213 - val_accuracy: 0.5347\n",
      "Epoch 4/1000\n",
      " 1/25 [>.............................] - ETA: 0s - loss: 1.1872 - accuracy: 0.4688\n",
      "Epoch 4: saving model to model/keypoint_classifier\\keypoint_classifier.hdf5\n",
      "25/25 [==============================] - 0s 4ms/step - loss: 1.1563 - accuracy: 0.4740 - val_loss: 1.0539 - val_accuracy: 0.5261\n",
      "Epoch 5/1000\n",
      " 1/25 [>.............................] - ETA: 0s - loss: 1.0769 - accuracy: 0.5000\n",
      "Epoch 5: saving model to model/keypoint_classifier\\keypoint_classifier.hdf5\n",
      "25/25 [==============================] - 0s 3ms/step - loss: 1.0912 - accuracy: 0.4788 - val_loss: 1.0015 - val_accuracy: 0.5157\n",
      "Epoch 6/1000\n",
      " 1/25 [>.............................] - ETA: 0s - loss: 1.1508 - accuracy: 0.4141\n",
      "Epoch 6: saving model to model/keypoint_classifier\\keypoint_classifier.hdf5\n",
      "25/25 [==============================] - 0s 3ms/step - loss: 1.0388 - accuracy: 0.4934 - val_loss: 0.9505 - val_accuracy: 0.5176\n",
      "Epoch 7/1000\n",
      " 1/25 [>.............................] - ETA: 0s - loss: 1.0092 - accuracy: 0.3750\n",
      "Epoch 7: saving model to model/keypoint_classifier\\keypoint_classifier.hdf5\n",
      "25/25 [==============================] - 0s 5ms/step - loss: 1.0077 - accuracy: 0.4956 - val_loss: 0.9123 - val_accuracy: 0.5147\n",
      "Epoch 8/1000\n",
      "18/25 [====================>.........] - ETA: 0s - loss: 0.9814 - accuracy: 0.4944\n",
      "Epoch 8: saving model to model/keypoint_classifier\\keypoint_classifier.hdf5\n",
      "25/25 [==============================] - 0s 6ms/step - loss: 0.9842 - accuracy: 0.4937 - val_loss: 0.8818 - val_accuracy: 0.5214\n",
      "Epoch 9/1000\n",
      " 1/25 [>.............................] - ETA: 0s - loss: 0.9183 - accuracy: 0.5312\n",
      "Epoch 9: saving model to model/keypoint_classifier\\keypoint_classifier.hdf5\n",
      "25/25 [==============================] - 0s 4ms/step - loss: 0.9479 - accuracy: 0.5184 - val_loss: 0.8526 - val_accuracy: 0.5176\n",
      "Epoch 10/1000\n",
      " 1/25 [>.............................] - ETA: 0s - loss: 0.9645 - accuracy: 0.5469\n",
      "Epoch 10: saving model to model/keypoint_classifier\\keypoint_classifier.hdf5\n",
      "25/25 [==============================] - 0s 4ms/step - loss: 0.9239 - accuracy: 0.5263 - val_loss: 0.8261 - val_accuracy: 0.5461\n",
      "Epoch 11/1000\n",
      " 1/25 [>.............................] - ETA: 0s - loss: 0.9055 - accuracy: 0.5859\n",
      "Epoch 11: saving model to model/keypoint_classifier\\keypoint_classifier.hdf5\n",
      "25/25 [==============================] - 0s 4ms/step - loss: 0.8926 - accuracy: 0.5418 - val_loss: 0.7997 - val_accuracy: 0.5783\n",
      "Epoch 12/1000\n",
      " 1/25 [>.............................] - ETA: 0s - loss: 0.9068 - accuracy: 0.6094\n",
      "Epoch 12: saving model to model/keypoint_classifier\\keypoint_classifier.hdf5\n",
      "25/25 [==============================] - 0s 3ms/step - loss: 0.8932 - accuracy: 0.5440 - val_loss: 0.7828 - val_accuracy: 0.5812\n",
      "Epoch 13/1000\n",
      " 1/25 [>.............................] - ETA: 0s - loss: 0.8900 - accuracy: 0.5156\n",
      "Epoch 13: saving model to model/keypoint_classifier\\keypoint_classifier.hdf5\n",
      "25/25 [==============================] - 0s 3ms/step - loss: 0.8751 - accuracy: 0.5386 - val_loss: 0.7693 - val_accuracy: 0.5726\n",
      "Epoch 14/1000\n",
      " 1/25 [>.............................] - ETA: 0s - loss: 0.8118 - accuracy: 0.6328\n",
      "Epoch 14: saving model to model/keypoint_classifier\\keypoint_classifier.hdf5\n",
      "25/25 [==============================] - 0s 3ms/step - loss: 0.8509 - accuracy: 0.5538 - val_loss: 0.7511 - val_accuracy: 0.5945\n",
      "Epoch 15/1000\n",
      " 1/25 [>.............................] - ETA: 0s - loss: 0.8492 - accuracy: 0.5938\n",
      "Epoch 15: saving model to model/keypoint_classifier\\keypoint_classifier.hdf5\n",
      "25/25 [==============================] - 0s 3ms/step - loss: 0.8522 - accuracy: 0.5497 - val_loss: 0.7428 - val_accuracy: 0.5812\n",
      "Epoch 16/1000\n",
      " 1/25 [>.............................] - ETA: 0s - loss: 0.8017 - accuracy: 0.5938\n",
      "Epoch 16: saving model to model/keypoint_classifier\\keypoint_classifier.hdf5\n",
      "25/25 [==============================] - 0s 3ms/step - loss: 0.8373 - accuracy: 0.5649 - val_loss: 0.7256 - val_accuracy: 0.6201\n",
      "Epoch 17/1000\n",
      " 1/25 [>.............................] - ETA: 0s - loss: 0.8681 - accuracy: 0.5703\n",
      "Epoch 17: saving model to model/keypoint_classifier\\keypoint_classifier.hdf5\n",
      "25/25 [==============================] - 0s 3ms/step - loss: 0.8272 - accuracy: 0.5744 - val_loss: 0.7167 - val_accuracy: 0.5793\n",
      "Epoch 18/1000\n",
      " 1/25 [>.............................] - ETA: 0s - loss: 0.8109 - accuracy: 0.5938\n",
      "Epoch 18: saving model to model/keypoint_classifier\\keypoint_classifier.hdf5\n",
      "25/25 [==============================] - 0s 4ms/step - loss: 0.8329 - accuracy: 0.5633 - val_loss: 0.7067 - val_accuracy: 0.6657\n",
      "Epoch 19/1000\n",
      " 1/25 [>.............................] - ETA: 0s - loss: 0.8483 - accuracy: 0.4766\n",
      "Epoch 19: saving model to model/keypoint_classifier\\keypoint_classifier.hdf5\n",
      "25/25 [==============================] - 0s 4ms/step - loss: 0.8132 - accuracy: 0.5646 - val_loss: 0.7014 - val_accuracy: 0.5859\n",
      "Epoch 20/1000\n",
      " 1/25 [>.............................] - ETA: 0s - loss: 0.8021 - accuracy: 0.5547\n",
      "Epoch 20: saving model to model/keypoint_classifier\\keypoint_classifier.hdf5\n",
      "25/25 [==============================] - 0s 4ms/step - loss: 0.7955 - accuracy: 0.5712 - val_loss: 0.6892 - val_accuracy: 0.5973\n",
      "Epoch 21/1000\n",
      " 1/25 [>.............................] - ETA: 0s - loss: 0.7859 - accuracy: 0.6094\n",
      "Epoch 21: saving model to model/keypoint_classifier\\keypoint_classifier.hdf5\n",
      "25/25 [==============================] - 0s 3ms/step - loss: 0.7904 - accuracy: 0.5820 - val_loss: 0.6814 - val_accuracy: 0.6410\n",
      "Epoch 22/1000\n",
      " 1/25 [>.............................] - ETA: 0s - loss: 0.7748 - accuracy: 0.6172\n",
      "Epoch 22: saving model to model/keypoint_classifier\\keypoint_classifier.hdf5\n",
      "25/25 [==============================] - 0s 3ms/step - loss: 0.7807 - accuracy: 0.5883 - val_loss: 0.6728 - val_accuracy: 0.6638\n",
      "Epoch 23/1000\n",
      " 1/25 [>.............................] - ETA: 0s - loss: 0.8185 - accuracy: 0.5469\n",
      "Epoch 23: saving model to model/keypoint_classifier\\keypoint_classifier.hdf5\n",
      "25/25 [==============================] - 0s 3ms/step - loss: 0.7818 - accuracy: 0.5801 - val_loss: 0.6699 - val_accuracy: 0.6952\n",
      "Epoch 24/1000\n",
      " 1/25 [>.............................] - ETA: 0s - loss: 0.8109 - accuracy: 0.5859\n",
      "Epoch 24: saving model to model/keypoint_classifier\\keypoint_classifier.hdf5\n",
      "25/25 [==============================] - 0s 3ms/step - loss: 0.7909 - accuracy: 0.5833 - val_loss: 0.6629 - val_accuracy: 0.6619\n",
      "Epoch 25/1000\n",
      " 1/25 [>.............................] - ETA: 0s - loss: 0.8158 - accuracy: 0.5547\n",
      "Epoch 25: saving model to model/keypoint_classifier\\keypoint_classifier.hdf5\n",
      "25/25 [==============================] - 0s 3ms/step - loss: 0.7786 - accuracy: 0.5849 - val_loss: 0.6557 - val_accuracy: 0.6534\n",
      "Epoch 26/1000\n",
      " 1/25 [>.............................] - ETA: 0s - loss: 0.7950 - accuracy: 0.6328\n",
      "Epoch 26: saving model to model/keypoint_classifier\\keypoint_classifier.hdf5\n",
      "25/25 [==============================] - 0s 3ms/step - loss: 0.7620 - accuracy: 0.5985 - val_loss: 0.6513 - val_accuracy: 0.6648\n",
      "Epoch 27/1000\n",
      " 1/25 [>.............................] - ETA: 0s - loss: 0.6582 - accuracy: 0.7188\n",
      "Epoch 27: saving model to model/keypoint_classifier\\keypoint_classifier.hdf5\n",
      "25/25 [==============================] - 0s 3ms/step - loss: 0.7625 - accuracy: 0.6007 - val_loss: 0.6420 - val_accuracy: 0.7664\n",
      "Epoch 28/1000\n",
      " 1/25 [>.............................] - ETA: 0s - loss: 0.7200 - accuracy: 0.6641\n",
      "Epoch 28: saving model to model/keypoint_classifier\\keypoint_classifier.hdf5\n",
      "25/25 [==============================] - 0s 3ms/step - loss: 0.7523 - accuracy: 0.6020 - val_loss: 0.6349 - val_accuracy: 0.7284\n",
      "Epoch 29/1000\n",
      " 1/25 [>.............................] - ETA: 0s - loss: 0.6713 - accuracy: 0.6562\n",
      "Epoch 29: saving model to model/keypoint_classifier\\keypoint_classifier.hdf5\n",
      "25/25 [==============================] - 0s 3ms/step - loss: 0.7467 - accuracy: 0.6153 - val_loss: 0.6256 - val_accuracy: 0.7806\n",
      "Epoch 30/1000\n",
      " 1/25 [>.............................] - ETA: 0s - loss: 0.7413 - accuracy: 0.5781\n",
      "Epoch 30: saving model to model/keypoint_classifier\\keypoint_classifier.hdf5\n",
      "25/25 [==============================] - 0s 3ms/step - loss: 0.7534 - accuracy: 0.6080 - val_loss: 0.6178 - val_accuracy: 0.7531\n",
      "Epoch 31/1000\n",
      " 1/25 [>.............................] - ETA: 0s - loss: 0.7215 - accuracy: 0.6641\n",
      "Epoch 31: saving model to model/keypoint_classifier\\keypoint_classifier.hdf5\n",
      "25/25 [==============================] - 0s 3ms/step - loss: 0.7572 - accuracy: 0.6077 - val_loss: 0.6240 - val_accuracy: 0.7303\n",
      "Epoch 32/1000\n",
      " 1/25 [>.............................] - ETA: 0s - loss: 0.7175 - accuracy: 0.6328\n",
      "Epoch 32: saving model to model/keypoint_classifier\\keypoint_classifier.hdf5\n",
      "25/25 [==============================] - 0s 3ms/step - loss: 0.7384 - accuracy: 0.6156 - val_loss: 0.6115 - val_accuracy: 0.7550\n",
      "Epoch 33/1000\n",
      " 1/25 [>.............................] - ETA: 0s - loss: 0.7827 - accuracy: 0.6641\n",
      "Epoch 33: saving model to model/keypoint_classifier\\keypoint_classifier.hdf5\n",
      "25/25 [==============================] - 0s 3ms/step - loss: 0.7479 - accuracy: 0.6067 - val_loss: 0.6107 - val_accuracy: 0.7104\n",
      "Epoch 34/1000\n",
      " 1/25 [>.............................] - ETA: 0s - loss: 0.8275 - accuracy: 0.6328\n",
      "Epoch 34: saving model to model/keypoint_classifier\\keypoint_classifier.hdf5\n",
      "25/25 [==============================] - 0s 3ms/step - loss: 0.7506 - accuracy: 0.6102 - val_loss: 0.6078 - val_accuracy: 0.7142\n",
      "Epoch 35/1000\n",
      " 1/25 [>.............................] - ETA: 0s - loss: 0.7956 - accuracy: 0.5547\n",
      "Epoch 35: saving model to model/keypoint_classifier\\keypoint_classifier.hdf5\n",
      "25/25 [==============================] - 0s 3ms/step - loss: 0.7285 - accuracy: 0.6178 - val_loss: 0.5966 - val_accuracy: 0.8272\n",
      "Epoch 36/1000\n",
      " 1/25 [>.............................] - ETA: 0s - loss: 0.7238 - accuracy: 0.6094\n",
      "Epoch 36: saving model to model/keypoint_classifier\\keypoint_classifier.hdf5\n",
      "25/25 [==============================] - 0s 3ms/step - loss: 0.7276 - accuracy: 0.6184 - val_loss: 0.5892 - val_accuracy: 0.8395\n",
      "Epoch 37/1000\n",
      " 1/25 [>.............................] - ETA: 0s - loss: 0.6930 - accuracy: 0.6719\n",
      "Epoch 37: saving model to model/keypoint_classifier\\keypoint_classifier.hdf5\n",
      "25/25 [==============================] - 0s 3ms/step - loss: 0.7238 - accuracy: 0.6238 - val_loss: 0.5878 - val_accuracy: 0.7521\n",
      "Epoch 38/1000\n",
      " 1/25 [>.............................] - ETA: 0s - loss: 0.7683 - accuracy: 0.5391\n",
      "Epoch 38: saving model to model/keypoint_classifier\\keypoint_classifier.hdf5\n",
      "25/25 [==============================] - 0s 3ms/step - loss: 0.7146 - accuracy: 0.6286 - val_loss: 0.5848 - val_accuracy: 0.8044\n",
      "Epoch 39/1000\n",
      " 1/25 [>.............................] - ETA: 0s - loss: 0.6620 - accuracy: 0.6719\n",
      "Epoch 39: saving model to model/keypoint_classifier\\keypoint_classifier.hdf5\n",
      "25/25 [==============================] - 0s 3ms/step - loss: 0.7107 - accuracy: 0.6232 - val_loss: 0.5740 - val_accuracy: 0.8272\n",
      "Epoch 40/1000\n",
      " 1/25 [>.............................] - ETA: 0s - loss: 0.6730 - accuracy: 0.6719\n",
      "Epoch 40: saving model to model/keypoint_classifier\\keypoint_classifier.hdf5\n",
      "25/25 [==============================] - 0s 3ms/step - loss: 0.7124 - accuracy: 0.6260 - val_loss: 0.5676 - val_accuracy: 0.8186\n",
      "Epoch 41/1000\n",
      " 1/25 [>.............................] - ETA: 0s - loss: 0.7719 - accuracy: 0.5781\n",
      "Epoch 41: saving model to model/keypoint_classifier\\keypoint_classifier.hdf5\n",
      "25/25 [==============================] - 0s 3ms/step - loss: 0.7210 - accuracy: 0.6301 - val_loss: 0.5689 - val_accuracy: 0.6971\n",
      "Epoch 42/1000\n",
      " 1/25 [>.............................] - ETA: 0s - loss: 0.7220 - accuracy: 0.6016\n",
      "Epoch 42: saving model to model/keypoint_classifier\\keypoint_classifier.hdf5\n",
      "25/25 [==============================] - 0s 3ms/step - loss: 0.7056 - accuracy: 0.6355 - val_loss: 0.5608 - val_accuracy: 0.7474\n",
      "Epoch 43/1000\n",
      " 1/25 [>.............................] - ETA: 0s - loss: 0.6732 - accuracy: 0.6875\n",
      "Epoch 43: saving model to model/keypoint_classifier\\keypoint_classifier.hdf5\n",
      "25/25 [==============================] - 0s 3ms/step - loss: 0.6989 - accuracy: 0.6469 - val_loss: 0.5521 - val_accuracy: 0.8139\n",
      "Epoch 44/1000\n",
      " 1/25 [>.............................] - ETA: 0s - loss: 0.7120 - accuracy: 0.6250\n",
      "Epoch 44: saving model to model/keypoint_classifier\\keypoint_classifier.hdf5\n",
      "25/25 [==============================] - 0s 3ms/step - loss: 0.6977 - accuracy: 0.6460 - val_loss: 0.5521 - val_accuracy: 0.8044\n",
      "Epoch 45/1000\n",
      " 1/25 [>.............................] - ETA: 0s - loss: 0.7066 - accuracy: 0.5859\n",
      "Epoch 45: saving model to model/keypoint_classifier\\keypoint_classifier.hdf5\n",
      "25/25 [==============================] - 0s 3ms/step - loss: 0.6924 - accuracy: 0.6428 - val_loss: 0.5436 - val_accuracy: 0.8319\n",
      "Epoch 46/1000\n",
      " 1/25 [>.............................] - ETA: 0s - loss: 0.7149 - accuracy: 0.6953\n",
      "Epoch 46: saving model to model/keypoint_classifier\\keypoint_classifier.hdf5\n",
      "25/25 [==============================] - 0s 3ms/step - loss: 0.7139 - accuracy: 0.6333 - val_loss: 0.5447 - val_accuracy: 0.8471\n",
      "Epoch 47/1000\n",
      " 1/25 [>.............................] - ETA: 0s - loss: 0.6665 - accuracy: 0.6719\n",
      "Epoch 47: saving model to model/keypoint_classifier\\keypoint_classifier.hdf5\n",
      "25/25 [==============================] - 0s 3ms/step - loss: 0.6987 - accuracy: 0.6371 - val_loss: 0.5472 - val_accuracy: 0.8490\n",
      "Epoch 48/1000\n",
      " 1/25 [>.............................] - ETA: 0s - loss: 0.7279 - accuracy: 0.6016\n",
      "Epoch 48: saving model to model/keypoint_classifier\\keypoint_classifier.hdf5\n",
      "25/25 [==============================] - 0s 3ms/step - loss: 0.7008 - accuracy: 0.6412 - val_loss: 0.5365 - val_accuracy: 0.8329\n",
      "Epoch 49/1000\n",
      " 1/25 [>.............................] - ETA: 0s - loss: 0.7547 - accuracy: 0.5859\n",
      "Epoch 49: saving model to model/keypoint_classifier\\keypoint_classifier.hdf5\n",
      "25/25 [==============================] - 0s 3ms/step - loss: 0.6906 - accuracy: 0.6533 - val_loss: 0.5325 - val_accuracy: 0.8395\n",
      "Epoch 50/1000\n",
      " 1/25 [>.............................] - ETA: 0s - loss: 0.7036 - accuracy: 0.5547\n",
      "Epoch 50: saving model to model/keypoint_classifier\\keypoint_classifier.hdf5\n",
      "25/25 [==============================] - 0s 3ms/step - loss: 0.6918 - accuracy: 0.6586 - val_loss: 0.5308 - val_accuracy: 0.8120\n",
      "Epoch 51/1000\n",
      " 1/25 [>.............................] - ETA: 0s - loss: 0.7273 - accuracy: 0.6406\n",
      "Epoch 51: saving model to model/keypoint_classifier\\keypoint_classifier.hdf5\n",
      "25/25 [==============================] - 0s 3ms/step - loss: 0.6833 - accuracy: 0.6555 - val_loss: 0.5290 - val_accuracy: 0.8443\n",
      "Epoch 52/1000\n",
      " 1/25 [>.............................] - ETA: 0s - loss: 0.7073 - accuracy: 0.6406\n",
      "Epoch 52: saving model to model/keypoint_classifier\\keypoint_classifier.hdf5\n",
      "25/25 [==============================] - 0s 3ms/step - loss: 0.6809 - accuracy: 0.6447 - val_loss: 0.5238 - val_accuracy: 0.8917\n",
      "Epoch 53/1000\n",
      " 1/25 [>.............................] - ETA: 0s - loss: 0.7567 - accuracy: 0.6484\n",
      "Epoch 53: saving model to model/keypoint_classifier\\keypoint_classifier.hdf5\n",
      "25/25 [==============================] - 0s 3ms/step - loss: 0.6801 - accuracy: 0.6621 - val_loss: 0.5140 - val_accuracy: 0.8528\n",
      "Epoch 54/1000\n",
      " 1/25 [>.............................] - ETA: 0s - loss: 0.6091 - accuracy: 0.7188\n",
      "Epoch 54: saving model to model/keypoint_classifier\\keypoint_classifier.hdf5\n",
      "25/25 [==============================] - 0s 3ms/step - loss: 0.6641 - accuracy: 0.6634 - val_loss: 0.5048 - val_accuracy: 0.8613\n",
      "Epoch 55/1000\n",
      " 1/25 [>.............................] - ETA: 0s - loss: 0.7340 - accuracy: 0.5859\n",
      "Epoch 55: saving model to model/keypoint_classifier\\keypoint_classifier.hdf5\n",
      "25/25 [==============================] - 0s 3ms/step - loss: 0.6874 - accuracy: 0.6495 - val_loss: 0.5172 - val_accuracy: 0.8120\n",
      "Epoch 56/1000\n",
      " 1/25 [>.............................] - ETA: 0s - loss: 0.6596 - accuracy: 0.7188\n",
      "Epoch 56: saving model to model/keypoint_classifier\\keypoint_classifier.hdf5\n",
      "25/25 [==============================] - 0s 3ms/step - loss: 0.6846 - accuracy: 0.6552 - val_loss: 0.5098 - val_accuracy: 0.8689\n",
      "Epoch 57/1000\n",
      " 1/25 [>.............................] - ETA: 0s - loss: 0.7505 - accuracy: 0.5938\n",
      "Epoch 57: saving model to model/keypoint_classifier\\keypoint_classifier.hdf5\n",
      "25/25 [==============================] - 0s 3ms/step - loss: 0.6674 - accuracy: 0.6602 - val_loss: 0.5092 - val_accuracy: 0.8642\n",
      "Epoch 58/1000\n",
      " 1/25 [>.............................] - ETA: 0s - loss: 0.7388 - accuracy: 0.6875\n",
      "Epoch 58: saving model to model/keypoint_classifier\\keypoint_classifier.hdf5\n",
      "25/25 [==============================] - 0s 3ms/step - loss: 0.6794 - accuracy: 0.6523 - val_loss: 0.5015 - val_accuracy: 0.8841\n",
      "Epoch 59/1000\n",
      " 1/25 [>.............................] - ETA: 0s - loss: 0.6753 - accuracy: 0.6328\n",
      "Epoch 59: saving model to model/keypoint_classifier\\keypoint_classifier.hdf5\n",
      "25/25 [==============================] - 0s 3ms/step - loss: 0.6723 - accuracy: 0.6615 - val_loss: 0.5050 - val_accuracy: 0.8889\n",
      "Epoch 60/1000\n",
      " 1/25 [>.............................] - ETA: 0s - loss: 0.6618 - accuracy: 0.6562\n",
      "Epoch 60: saving model to model/keypoint_classifier\\keypoint_classifier.hdf5\n",
      "25/25 [==============================] - 0s 3ms/step - loss: 0.6575 - accuracy: 0.6602 - val_loss: 0.4966 - val_accuracy: 0.8718\n",
      "Epoch 61/1000\n",
      " 1/25 [>.............................] - ETA: 0s - loss: 0.7775 - accuracy: 0.6484\n",
      "Epoch 61: saving model to model/keypoint_classifier\\keypoint_classifier.hdf5\n",
      "25/25 [==============================] - 0s 3ms/step - loss: 0.6611 - accuracy: 0.6719 - val_loss: 0.4971 - val_accuracy: 0.8699\n",
      "Epoch 62/1000\n",
      " 1/25 [>.............................] - ETA: 0s - loss: 0.7520 - accuracy: 0.6250\n",
      "Epoch 62: saving model to model/keypoint_classifier\\keypoint_classifier.hdf5\n",
      "25/25 [==============================] - 0s 3ms/step - loss: 0.6756 - accuracy: 0.6675 - val_loss: 0.5001 - val_accuracy: 0.9088\n",
      "Epoch 63/1000\n",
      " 1/25 [>.............................] - ETA: 0s - loss: 0.7275 - accuracy: 0.6172\n",
      "Epoch 63: saving model to model/keypoint_classifier\\keypoint_classifier.hdf5\n",
      "25/25 [==============================] - 0s 3ms/step - loss: 0.6759 - accuracy: 0.6457 - val_loss: 0.5130 - val_accuracy: 0.9193\n",
      "Epoch 64/1000\n",
      " 1/25 [>.............................] - ETA: 0s - loss: 0.6945 - accuracy: 0.6250\n",
      "Epoch 64: saving model to model/keypoint_classifier\\keypoint_classifier.hdf5\n",
      "25/25 [==============================] - 0s 3ms/step - loss: 0.6628 - accuracy: 0.6723 - val_loss: 0.4898 - val_accuracy: 0.8689\n",
      "Epoch 65/1000\n",
      " 1/25 [>.............................] - ETA: 0s - loss: 0.6458 - accuracy: 0.6875\n",
      "Epoch 65: saving model to model/keypoint_classifier\\keypoint_classifier.hdf5\n",
      "25/25 [==============================] - 0s 3ms/step - loss: 0.6693 - accuracy: 0.6640 - val_loss: 0.5014 - val_accuracy: 0.8500\n",
      "Epoch 66/1000\n",
      " 1/25 [>.............................] - ETA: 0s - loss: 0.7172 - accuracy: 0.6094\n",
      "Epoch 66: saving model to model/keypoint_classifier\\keypoint_classifier.hdf5\n",
      "25/25 [==============================] - 0s 3ms/step - loss: 0.6609 - accuracy: 0.6612 - val_loss: 0.4928 - val_accuracy: 0.9107\n",
      "Epoch 67/1000\n",
      " 1/25 [>.............................] - ETA: 0s - loss: 0.6122 - accuracy: 0.7422\n",
      "Epoch 67: saving model to model/keypoint_classifier\\keypoint_classifier.hdf5\n",
      "25/25 [==============================] - 0s 3ms/step - loss: 0.6531 - accuracy: 0.6697 - val_loss: 0.4902 - val_accuracy: 0.8870\n",
      "Epoch 68/1000\n",
      " 1/25 [>.............................] - ETA: 0s - loss: 0.6395 - accuracy: 0.6562\n",
      "Epoch 68: saving model to model/keypoint_classifier\\keypoint_classifier.hdf5\n",
      "25/25 [==============================] - 0s 3ms/step - loss: 0.6628 - accuracy: 0.6678 - val_loss: 0.4808 - val_accuracy: 0.8794\n",
      "Epoch 69/1000\n",
      " 1/25 [>.............................] - ETA: 0s - loss: 0.6872 - accuracy: 0.6719\n",
      "Epoch 69: saving model to model/keypoint_classifier\\keypoint_classifier.hdf5\n",
      "25/25 [==============================] - 0s 3ms/step - loss: 0.6509 - accuracy: 0.6761 - val_loss: 0.4922 - val_accuracy: 0.9193\n",
      "Epoch 70/1000\n",
      " 1/25 [>.............................] - ETA: 0s - loss: 0.5556 - accuracy: 0.7031\n",
      "Epoch 70: saving model to model/keypoint_classifier\\keypoint_classifier.hdf5\n",
      "25/25 [==============================] - 0s 3ms/step - loss: 0.6632 - accuracy: 0.6577 - val_loss: 0.4951 - val_accuracy: 0.8984\n",
      "Epoch 71/1000\n",
      " 1/25 [>.............................] - ETA: 0s - loss: 0.5370 - accuracy: 0.8047\n",
      "Epoch 71: saving model to model/keypoint_classifier\\keypoint_classifier.hdf5\n",
      "25/25 [==============================] - 0s 3ms/step - loss: 0.6375 - accuracy: 0.6833 - val_loss: 0.4814 - val_accuracy: 0.8803\n",
      "Epoch 72/1000\n",
      " 1/25 [>.............................] - ETA: 0s - loss: 0.6074 - accuracy: 0.6797\n",
      "Epoch 72: saving model to model/keypoint_classifier\\keypoint_classifier.hdf5\n",
      "25/25 [==============================] - 0s 3ms/step - loss: 0.6348 - accuracy: 0.6776 - val_loss: 0.4882 - val_accuracy: 0.8613\n",
      "Epoch 73/1000\n",
      " 1/25 [>.............................] - ETA: 0s - loss: 0.7141 - accuracy: 0.6172\n",
      "Epoch 73: saving model to model/keypoint_classifier\\keypoint_classifier.hdf5\n",
      "25/25 [==============================] - 0s 3ms/step - loss: 0.6383 - accuracy: 0.6814 - val_loss: 0.4959 - val_accuracy: 0.8832\n",
      "Epoch 74/1000\n",
      " 1/25 [>.............................] - ETA: 0s - loss: 0.7416 - accuracy: 0.6250\n",
      "Epoch 74: saving model to model/keypoint_classifier\\keypoint_classifier.hdf5\n",
      "25/25 [==============================] - 0s 3ms/step - loss: 0.6330 - accuracy: 0.6960 - val_loss: 0.4911 - val_accuracy: 0.8490\n",
      "Epoch 75/1000\n",
      " 1/25 [>.............................] - ETA: 0s - loss: 0.6279 - accuracy: 0.7422\n",
      "Epoch 75: saving model to model/keypoint_classifier\\keypoint_classifier.hdf5\n",
      "25/25 [==============================] - 0s 3ms/step - loss: 0.6295 - accuracy: 0.6957 - val_loss: 0.4670 - val_accuracy: 0.8879\n",
      "Epoch 76/1000\n",
      " 1/25 [>.............................] - ETA: 0s - loss: 0.7156 - accuracy: 0.6250\n",
      "Epoch 76: saving model to model/keypoint_classifier\\keypoint_classifier.hdf5\n",
      "25/25 [==============================] - 0s 3ms/step - loss: 0.6316 - accuracy: 0.6802 - val_loss: 0.4721 - val_accuracy: 0.9183\n",
      "Epoch 77/1000\n",
      " 1/25 [>.............................] - ETA: 0s - loss: 0.6063 - accuracy: 0.6641\n",
      "Epoch 77: saving model to model/keypoint_classifier\\keypoint_classifier.hdf5\n",
      "25/25 [==============================] - 0s 3ms/step - loss: 0.6311 - accuracy: 0.6878 - val_loss: 0.4777 - val_accuracy: 0.8984\n",
      "Epoch 78/1000\n",
      " 1/25 [>.............................] - ETA: 0s - loss: 0.6167 - accuracy: 0.6719\n",
      "Epoch 78: saving model to model/keypoint_classifier\\keypoint_classifier.hdf5\n",
      "25/25 [==============================] - 0s 3ms/step - loss: 0.6225 - accuracy: 0.7014 - val_loss: 0.4662 - val_accuracy: 0.8784\n",
      "Epoch 79/1000\n",
      " 1/25 [>.............................] - ETA: 0s - loss: 0.6416 - accuracy: 0.6719\n",
      "Epoch 79: saving model to model/keypoint_classifier\\keypoint_classifier.hdf5\n",
      "25/25 [==============================] - 0s 3ms/step - loss: 0.6292 - accuracy: 0.6913 - val_loss: 0.4606 - val_accuracy: 0.9098\n",
      "Epoch 80/1000\n",
      " 1/25 [>.............................] - ETA: 0s - loss: 0.6236 - accuracy: 0.6641\n",
      "Epoch 80: saving model to model/keypoint_classifier\\keypoint_classifier.hdf5\n",
      "25/25 [==============================] - 0s 3ms/step - loss: 0.6342 - accuracy: 0.6865 - val_loss: 0.4676 - val_accuracy: 0.9098\n",
      "Epoch 81/1000\n",
      " 1/25 [>.............................] - ETA: 0s - loss: 0.6459 - accuracy: 0.6641\n",
      "Epoch 81: saving model to model/keypoint_classifier\\keypoint_classifier.hdf5\n",
      "25/25 [==============================] - 0s 3ms/step - loss: 0.6221 - accuracy: 0.6922 - val_loss: 0.4737 - val_accuracy: 0.9022\n",
      "Epoch 82/1000\n",
      " 1/25 [>.............................] - ETA: 0s - loss: 0.6565 - accuracy: 0.6328\n",
      "Epoch 82: saving model to model/keypoint_classifier\\keypoint_classifier.hdf5\n",
      "25/25 [==============================] - 0s 3ms/step - loss: 0.6386 - accuracy: 0.6786 - val_loss: 0.4860 - val_accuracy: 0.9126\n",
      "Epoch 83/1000\n",
      " 1/25 [>.............................] - ETA: 0s - loss: 0.5913 - accuracy: 0.7188\n",
      "Epoch 83: saving model to model/keypoint_classifier\\keypoint_classifier.hdf5\n",
      "25/25 [==============================] - 0s 3ms/step - loss: 0.6247 - accuracy: 0.7061 - val_loss: 0.4728 - val_accuracy: 0.8908\n",
      "Epoch 84/1000\n",
      " 1/25 [>.............................] - ETA: 0s - loss: 0.6704 - accuracy: 0.6797\n",
      "Epoch 84: saving model to model/keypoint_classifier\\keypoint_classifier.hdf5\n",
      "25/25 [==============================] - 0s 3ms/step - loss: 0.6151 - accuracy: 0.7087 - val_loss: 0.4481 - val_accuracy: 0.8965\n",
      "Epoch 85/1000\n",
      " 1/25 [>.............................] - ETA: 0s - loss: 0.6206 - accuracy: 0.6875\n",
      "Epoch 85: saving model to model/keypoint_classifier\\keypoint_classifier.hdf5\n",
      "25/25 [==============================] - 0s 3ms/step - loss: 0.6120 - accuracy: 0.7023 - val_loss: 0.4761 - val_accuracy: 0.8604\n",
      "Epoch 86/1000\n",
      " 1/25 [>.............................] - ETA: 0s - loss: 0.6193 - accuracy: 0.7344\n",
      "Epoch 86: saving model to model/keypoint_classifier\\keypoint_classifier.hdf5\n",
      "25/25 [==============================] - 0s 3ms/step - loss: 0.6283 - accuracy: 0.7004 - val_loss: 0.4707 - val_accuracy: 0.9231\n",
      "Epoch 87/1000\n",
      " 1/25 [>.............................] - ETA: 0s - loss: 0.7115 - accuracy: 0.6797\n",
      "Epoch 87: saving model to model/keypoint_classifier\\keypoint_classifier.hdf5\n",
      "25/25 [==============================] - 0s 3ms/step - loss: 0.6212 - accuracy: 0.7112 - val_loss: 0.4600 - val_accuracy: 0.9240\n",
      "Epoch 88/1000\n",
      " 1/25 [>.............................] - ETA: 0s - loss: 0.5103 - accuracy: 0.7656\n",
      "Epoch 88: saving model to model/keypoint_classifier\\keypoint_classifier.hdf5\n",
      "25/25 [==============================] - 0s 4ms/step - loss: 0.6222 - accuracy: 0.7036 - val_loss: 0.4702 - val_accuracy: 0.8927\n",
      "Epoch 89/1000\n",
      " 1/25 [>.............................] - ETA: 0s - loss: 0.5169 - accuracy: 0.7734\n",
      "Epoch 89: saving model to model/keypoint_classifier\\keypoint_classifier.hdf5\n",
      "25/25 [==============================] - 0s 4ms/step - loss: 0.6122 - accuracy: 0.7033 - val_loss: 0.4672 - val_accuracy: 0.8908\n",
      "Epoch 90/1000\n",
      " 1/25 [>.............................] - ETA: 0s - loss: 0.5926 - accuracy: 0.6953\n",
      "Epoch 90: saving model to model/keypoint_classifier\\keypoint_classifier.hdf5\n",
      "25/25 [==============================] - 0s 6ms/step - loss: 0.6066 - accuracy: 0.7065 - val_loss: 0.4570 - val_accuracy: 0.9221\n",
      "Epoch 91/1000\n",
      " 1/25 [>.............................] - ETA: 0s - loss: 0.5987 - accuracy: 0.6797\n",
      "Epoch 91: saving model to model/keypoint_classifier\\keypoint_classifier.hdf5\n",
      "25/25 [==============================] - 0s 4ms/step - loss: 0.5914 - accuracy: 0.7118 - val_loss: 0.4489 - val_accuracy: 0.9022\n",
      "Epoch 92/1000\n",
      " 1/25 [>.............................] - ETA: 0s - loss: 0.5927 - accuracy: 0.7422\n",
      "Epoch 92: saving model to model/keypoint_classifier\\keypoint_classifier.hdf5\n",
      "25/25 [==============================] - 0s 3ms/step - loss: 0.5997 - accuracy: 0.7210 - val_loss: 0.4495 - val_accuracy: 0.9231\n",
      "Epoch 93/1000\n",
      " 1/25 [>.............................] - ETA: 0s - loss: 0.6074 - accuracy: 0.7188\n",
      "Epoch 93: saving model to model/keypoint_classifier\\keypoint_classifier.hdf5\n",
      "25/25 [==============================] - 0s 3ms/step - loss: 0.6106 - accuracy: 0.7077 - val_loss: 0.4566 - val_accuracy: 0.9288\n",
      "Epoch 94/1000\n",
      " 1/25 [>.............................] - ETA: 0s - loss: 0.5276 - accuracy: 0.7188\n",
      "Epoch 94: saving model to model/keypoint_classifier\\keypoint_classifier.hdf5\n",
      "25/25 [==============================] - 0s 4ms/step - loss: 0.5909 - accuracy: 0.7248 - val_loss: 0.4533 - val_accuracy: 0.9240\n",
      "Epoch 95/1000\n",
      " 1/25 [>.............................] - ETA: 0s - loss: 0.6450 - accuracy: 0.7031\n",
      "Epoch 95: saving model to model/keypoint_classifier\\keypoint_classifier.hdf5\n",
      "25/25 [==============================] - 0s 4ms/step - loss: 0.5907 - accuracy: 0.7122 - val_loss: 0.4506 - val_accuracy: 0.9250\n",
      "Epoch 96/1000\n",
      " 1/25 [>.............................] - ETA: 0s - loss: 0.5864 - accuracy: 0.7188\n",
      "Epoch 96: saving model to model/keypoint_classifier\\keypoint_classifier.hdf5\n",
      "25/25 [==============================] - 0s 4ms/step - loss: 0.6012 - accuracy: 0.7122 - val_loss: 0.4563 - val_accuracy: 0.9297\n",
      "Epoch 97/1000\n",
      " 1/25 [>.............................] - ETA: 0s - loss: 0.5332 - accuracy: 0.7812\n",
      "Epoch 97: saving model to model/keypoint_classifier\\keypoint_classifier.hdf5\n",
      "25/25 [==============================] - 0s 3ms/step - loss: 0.5945 - accuracy: 0.7096 - val_loss: 0.4439 - val_accuracy: 0.9240\n",
      "Epoch 98/1000\n",
      " 1/25 [>.............................] - ETA: 0s - loss: 0.6553 - accuracy: 0.6953\n",
      "Epoch 98: saving model to model/keypoint_classifier\\keypoint_classifier.hdf5\n",
      "25/25 [==============================] - 0s 3ms/step - loss: 0.5831 - accuracy: 0.7213 - val_loss: 0.4404 - val_accuracy: 0.9212\n",
      "Epoch 99/1000\n",
      " 1/25 [>.............................] - ETA: 0s - loss: 0.5263 - accuracy: 0.6797\n",
      "Epoch 99: saving model to model/keypoint_classifier\\keypoint_classifier.hdf5\n",
      "25/25 [==============================] - 0s 3ms/step - loss: 0.5798 - accuracy: 0.7299 - val_loss: 0.4389 - val_accuracy: 0.9364\n",
      "Epoch 100/1000\n",
      " 1/25 [>.............................] - ETA: 0s - loss: 0.5593 - accuracy: 0.7500\n",
      "Epoch 100: saving model to model/keypoint_classifier\\keypoint_classifier.hdf5\n",
      "25/25 [==============================] - 0s 4ms/step - loss: 0.5934 - accuracy: 0.7137 - val_loss: 0.4420 - val_accuracy: 0.9307\n",
      "Epoch 101/1000\n",
      " 1/25 [>.............................] - ETA: 0s - loss: 0.4869 - accuracy: 0.7891\n",
      "Epoch 101: saving model to model/keypoint_classifier\\keypoint_classifier.hdf5\n",
      "25/25 [==============================] - 0s 3ms/step - loss: 0.5847 - accuracy: 0.7223 - val_loss: 0.4340 - val_accuracy: 0.9202\n",
      "Epoch 102/1000\n",
      " 1/25 [>.............................] - ETA: 0s - loss: 0.5745 - accuracy: 0.7344\n",
      "Epoch 102: saving model to model/keypoint_classifier\\keypoint_classifier.hdf5\n",
      "25/25 [==============================] - 0s 3ms/step - loss: 0.5829 - accuracy: 0.7194 - val_loss: 0.4497 - val_accuracy: 0.8917\n",
      "Epoch 103/1000\n",
      " 1/25 [>.............................] - ETA: 0s - loss: 0.5245 - accuracy: 0.7656\n",
      "Epoch 103: saving model to model/keypoint_classifier\\keypoint_classifier.hdf5\n",
      "25/25 [==============================] - 0s 3ms/step - loss: 0.5724 - accuracy: 0.7261 - val_loss: 0.4456 - val_accuracy: 0.9202\n",
      "Epoch 104/1000\n",
      " 1/25 [>.............................] - ETA: 0s - loss: 0.5972 - accuracy: 0.7188\n",
      "Epoch 104: saving model to model/keypoint_classifier\\keypoint_classifier.hdf5\n",
      "25/25 [==============================] - 0s 3ms/step - loss: 0.5830 - accuracy: 0.7242 - val_loss: 0.4316 - val_accuracy: 0.9297\n",
      "Epoch 105/1000\n",
      " 1/25 [>.............................] - ETA: 0s - loss: 0.5205 - accuracy: 0.7734\n",
      "Epoch 105: saving model to model/keypoint_classifier\\keypoint_classifier.hdf5\n",
      "25/25 [==============================] - 0s 3ms/step - loss: 0.5804 - accuracy: 0.7198 - val_loss: 0.4480 - val_accuracy: 0.9012\n",
      "Epoch 106/1000\n",
      " 1/25 [>.............................] - ETA: 0s - loss: 0.5608 - accuracy: 0.7266\n",
      "Epoch 106: saving model to model/keypoint_classifier\\keypoint_classifier.hdf5\n",
      "25/25 [==============================] - 0s 3ms/step - loss: 0.5828 - accuracy: 0.7210 - val_loss: 0.4355 - val_accuracy: 0.9364\n",
      "Epoch 107/1000\n",
      " 1/25 [>.............................] - ETA: 0s - loss: 0.5748 - accuracy: 0.7422\n",
      "Epoch 107: saving model to model/keypoint_classifier\\keypoint_classifier.hdf5\n",
      "25/25 [==============================] - 0s 4ms/step - loss: 0.5708 - accuracy: 0.7296 - val_loss: 0.4201 - val_accuracy: 0.9326\n",
      "Epoch 108/1000\n",
      " 1/25 [>.............................] - ETA: 0s - loss: 0.6421 - accuracy: 0.6719\n",
      "Epoch 108: saving model to model/keypoint_classifier\\keypoint_classifier.hdf5\n",
      "25/25 [==============================] - 0s 4ms/step - loss: 0.5709 - accuracy: 0.7318 - val_loss: 0.4255 - val_accuracy: 0.9335\n",
      "Epoch 109/1000\n",
      " 1/25 [>.............................] - ETA: 0s - loss: 0.6336 - accuracy: 0.6797\n",
      "Epoch 109: saving model to model/keypoint_classifier\\keypoint_classifier.hdf5\n",
      "25/25 [==============================] - 0s 3ms/step - loss: 0.5873 - accuracy: 0.7103 - val_loss: 0.4427 - val_accuracy: 0.9288\n",
      "Epoch 110/1000\n",
      " 1/25 [>.............................] - ETA: 0s - loss: 0.6264 - accuracy: 0.7500\n",
      "Epoch 110: saving model to model/keypoint_classifier\\keypoint_classifier.hdf5\n",
      "25/25 [==============================] - 0s 3ms/step - loss: 0.5504 - accuracy: 0.7448 - val_loss: 0.4069 - val_accuracy: 0.9516\n",
      "Epoch 111/1000\n",
      " 1/25 [>.............................] - ETA: 0s - loss: 0.5946 - accuracy: 0.7109\n",
      "Epoch 111: saving model to model/keypoint_classifier\\keypoint_classifier.hdf5\n",
      "25/25 [==============================] - 0s 3ms/step - loss: 0.5768 - accuracy: 0.7286 - val_loss: 0.4280 - val_accuracy: 0.9326\n",
      "Epoch 112/1000\n",
      " 1/25 [>.............................] - ETA: 0s - loss: 0.4523 - accuracy: 0.7812\n",
      "Epoch 112: saving model to model/keypoint_classifier\\keypoint_classifier.hdf5\n",
      "25/25 [==============================] - 0s 3ms/step - loss: 0.5547 - accuracy: 0.7378 - val_loss: 0.4360 - val_accuracy: 0.8841\n",
      "Epoch 113/1000\n",
      " 1/25 [>.............................] - ETA: 0s - loss: 0.6415 - accuracy: 0.7188\n",
      "Epoch 113: saving model to model/keypoint_classifier\\keypoint_classifier.hdf5\n",
      "25/25 [==============================] - 0s 5ms/step - loss: 0.5692 - accuracy: 0.7375 - val_loss: 0.4348 - val_accuracy: 0.9022\n",
      "Epoch 114/1000\n",
      " 1/25 [>.............................] - ETA: 0s - loss: 0.6241 - accuracy: 0.7031\n",
      "Epoch 114: saving model to model/keypoint_classifier\\keypoint_classifier.hdf5\n",
      "25/25 [==============================] - 0s 3ms/step - loss: 0.5668 - accuracy: 0.7305 - val_loss: 0.4319 - val_accuracy: 0.9269\n",
      "Epoch 115/1000\n",
      " 1/25 [>.............................] - ETA: 0s - loss: 0.5524 - accuracy: 0.7266\n",
      "Epoch 115: saving model to model/keypoint_classifier\\keypoint_classifier.hdf5\n",
      "25/25 [==============================] - 0s 3ms/step - loss: 0.5748 - accuracy: 0.7308 - val_loss: 0.4367 - val_accuracy: 0.9278\n",
      "Epoch 116/1000\n",
      " 1/25 [>.............................] - ETA: 0s - loss: 0.5562 - accuracy: 0.7656\n",
      "Epoch 116: saving model to model/keypoint_classifier\\keypoint_classifier.hdf5\n",
      "25/25 [==============================] - 0s 3ms/step - loss: 0.5571 - accuracy: 0.7403 - val_loss: 0.4298 - val_accuracy: 0.8822\n",
      "Epoch 117/1000\n",
      " 1/25 [>.............................] - ETA: 0s - loss: 0.6063 - accuracy: 0.7109\n",
      "Epoch 117: saving model to model/keypoint_classifier\\keypoint_classifier.hdf5\n",
      "25/25 [==============================] - 0s 4ms/step - loss: 0.5555 - accuracy: 0.7321 - val_loss: 0.4224 - val_accuracy: 0.9411\n",
      "Epoch 118/1000\n",
      " 1/25 [>.............................] - ETA: 0s - loss: 0.5983 - accuracy: 0.7344\n",
      "Epoch 118: saving model to model/keypoint_classifier\\keypoint_classifier.hdf5\n",
      "25/25 [==============================] - 0s 3ms/step - loss: 0.5694 - accuracy: 0.7362 - val_loss: 0.4370 - val_accuracy: 0.9297\n",
      "Epoch 119/1000\n",
      " 1/25 [>.............................] - ETA: 0s - loss: 0.5240 - accuracy: 0.7422\n",
      "Epoch 119: saving model to model/keypoint_classifier\\keypoint_classifier.hdf5\n",
      "25/25 [==============================] - 0s 3ms/step - loss: 0.5543 - accuracy: 0.7445 - val_loss: 0.4220 - val_accuracy: 0.9278\n",
      "Epoch 120/1000\n",
      " 1/25 [>.............................] - ETA: 0s - loss: 0.5030 - accuracy: 0.7891\n",
      "Epoch 120: saving model to model/keypoint_classifier\\keypoint_classifier.hdf5\n",
      "25/25 [==============================] - 0s 3ms/step - loss: 0.5664 - accuracy: 0.7293 - val_loss: 0.4328 - val_accuracy: 0.9098\n",
      "Epoch 121/1000\n",
      " 1/25 [>.............................] - ETA: 0s - loss: 0.5418 - accuracy: 0.7578\n",
      "Epoch 121: saving model to model/keypoint_classifier\\keypoint_classifier.hdf5\n",
      "25/25 [==============================] - 0s 3ms/step - loss: 0.5534 - accuracy: 0.7426 - val_loss: 0.4264 - val_accuracy: 0.9307\n",
      "Epoch 122/1000\n",
      " 1/25 [>.............................] - ETA: 0s - loss: 0.5934 - accuracy: 0.7266\n",
      "Epoch 122: saving model to model/keypoint_classifier\\keypoint_classifier.hdf5\n",
      "25/25 [==============================] - 0s 3ms/step - loss: 0.5639 - accuracy: 0.7331 - val_loss: 0.4261 - val_accuracy: 0.9430\n",
      "Epoch 123/1000\n",
      " 1/25 [>.............................] - ETA: 0s - loss: 0.5450 - accuracy: 0.6953\n",
      "Epoch 123: saving model to model/keypoint_classifier\\keypoint_classifier.hdf5\n",
      "25/25 [==============================] - 0s 3ms/step - loss: 0.5503 - accuracy: 0.7394 - val_loss: 0.4109 - val_accuracy: 0.9221\n",
      "Epoch 124/1000\n",
      " 1/25 [>.............................] - ETA: 0s - loss: 0.6204 - accuracy: 0.7109\n",
      "Epoch 124: saving model to model/keypoint_classifier\\keypoint_classifier.hdf5\n",
      "25/25 [==============================] - 0s 3ms/step - loss: 0.5507 - accuracy: 0.7315 - val_loss: 0.4274 - val_accuracy: 0.9193\n",
      "Epoch 125/1000\n",
      " 1/25 [>.............................] - ETA: 0s - loss: 0.5536 - accuracy: 0.7344\n",
      "Epoch 125: saving model to model/keypoint_classifier\\keypoint_classifier.hdf5\n",
      "25/25 [==============================] - 0s 4ms/step - loss: 0.5553 - accuracy: 0.7391 - val_loss: 0.4181 - val_accuracy: 0.9240\n",
      "Epoch 126/1000\n",
      " 1/25 [>.............................] - ETA: 0s - loss: 0.5298 - accuracy: 0.7344\n",
      "Epoch 126: saving model to model/keypoint_classifier\\keypoint_classifier.hdf5\n",
      "25/25 [==============================] - 0s 3ms/step - loss: 0.5534 - accuracy: 0.7242 - val_loss: 0.4252 - val_accuracy: 0.9107\n",
      "Epoch 127/1000\n",
      " 1/25 [>.............................] - ETA: 0s - loss: 0.5417 - accuracy: 0.7812\n",
      "Epoch 127: saving model to model/keypoint_classifier\\keypoint_classifier.hdf5\n",
      "25/25 [==============================] - 0s 3ms/step - loss: 0.5581 - accuracy: 0.7331 - val_loss: 0.4204 - val_accuracy: 0.9383\n",
      "Epoch 128/1000\n",
      " 1/25 [>.............................] - ETA: 0s - loss: 0.5943 - accuracy: 0.6328\n",
      "Epoch 128: saving model to model/keypoint_classifier\\keypoint_classifier.hdf5\n",
      "25/25 [==============================] - 0s 3ms/step - loss: 0.5531 - accuracy: 0.7277 - val_loss: 0.4361 - val_accuracy: 0.9212\n",
      "Epoch 129/1000\n",
      " 1/25 [>.............................] - ETA: 0s - loss: 0.4812 - accuracy: 0.7891\n",
      "Epoch 129: saving model to model/keypoint_classifier\\keypoint_classifier.hdf5\n",
      "25/25 [==============================] - 0s 3ms/step - loss: 0.5557 - accuracy: 0.7375 - val_loss: 0.4261 - val_accuracy: 0.9126\n",
      "Epoch 130/1000\n",
      " 1/25 [>.............................] - ETA: 0s - loss: 0.5390 - accuracy: 0.7188\n",
      "Epoch 130: saving model to model/keypoint_classifier\\keypoint_classifier.hdf5\n",
      "25/25 [==============================] - 0s 3ms/step - loss: 0.5643 - accuracy: 0.7261 - val_loss: 0.4290 - val_accuracy: 0.9145\n",
      "Epoch 130: early stopping\n"
     ]
    },
    {
     "data": {
      "text/plain": [
       "<keras.callbacks.History at 0x1bb0b3f5be0>"
      ]
     },
     "execution_count": 11,
     "metadata": {},
     "output_type": "execute_result"
    }
   ],
   "source": [
    "model.fit(\n",
    "    X_train,\n",
    "    y_train,\n",
    "    epochs=1000,\n",
    "    batch_size=128,\n",
    "    validation_data=(X_test, y_test),\n",
    "    callbacks=[cp_callback, es_callback]\n",
    ")"
   ]
  },
  {
   "cell_type": "code",
   "execution_count": 12,
   "metadata": {},
   "outputs": [
    {
     "name": "stdout",
     "output_type": "stream",
     "text": [
      "9/9 [==============================] - 0s 1ms/step - loss: 0.4290 - accuracy: 0.9145\n"
     ]
    }
   ],
   "source": [
    "# モデル評価\n",
    "val_loss, val_acc = model.evaluate(X_test, y_test, batch_size=128)"
   ]
  },
  {
   "cell_type": "code",
   "execution_count": 13,
   "metadata": {},
   "outputs": [],
   "source": [
    "# 保存したモデルのロード\n",
    "model = tf.keras.models.load_model(model_save_path)"
   ]
  },
  {
   "cell_type": "code",
   "execution_count": 14,
   "metadata": {},
   "outputs": [
    {
     "name": "stdout",
     "output_type": "stream",
     "text": [
      "1/1 [==============================] - 0s 69ms/step\n",
      "[6.1694962e-01 3.8058701e-01 2.4571458e-03 2.2746044e-06 3.8656699e-06]\n",
      "0\n"
     ]
    }
   ],
   "source": [
    "# 推論テスト\n",
    "predict_result = model.predict(np.array([X_test[0]]))\n",
    "print(np.squeeze(predict_result))\n",
    "print(np.argmax(np.squeeze(predict_result)))"
   ]
  },
  {
   "cell_type": "markdown",
   "metadata": {},
   "source": [
    "# 混同行列"
   ]
  },
  {
   "cell_type": "code",
   "execution_count": 15,
   "metadata": {},
   "outputs": [
    {
     "name": "stdout",
     "output_type": "stream",
     "text": [
      "33/33 [==============================] - 0s 780us/step\n"
     ]
    },
    {
     "data": {
      "image/png": "[encoded data removed]",
      "text/plain": [
       "<Figure size 700x600 with 2 Axes>"
      ]
     },
     "metadata": {},
     "output_type": "display_data"
    },
    {
     "name": "stdout",
     "output_type": "stream",
     "text": [
      "Classification Report\n",
      "              precision    recall  f1-score   support\n",
      "\n",
      "           0       0.97      0.81      0.88       411\n",
      "           1       0.87      0.98      0.92       527\n",
      "           2       0.98      0.98      0.98        60\n",
      "           3       1.00      1.00      1.00        55\n",
      "\n",
      "    accuracy                           0.91      1053\n",
      "   macro avg       0.96      0.94      0.95      1053\n",
      "weighted avg       0.92      0.91      0.91      1053\n",
      "\n"
     ]
    }
   ],
   "source": [
    "import pandas as pd\n",
    "import seaborn as sns\n",
    "import matplotlib.pyplot as plt\n",
    "from sklearn.metrics import confusion_matrix, classification_report\n",
    "\n",
    "def print_confusion_matrix(y_true, y_pred, report=True):\n",
    "    labels = sorted(list(set(y_true)))\n",
    "    cmx_data = confusion_matrix(y_true, y_pred, labels=labels)\n",
    "    \n",
    "    df_cmx = pd.DataFrame(cmx_data, index=labels, columns=labels)\n",
    " \n",
    "    fig, ax = plt.subplots(figsize=(7, 6))\n",
    "    sns.heatmap(df_cmx, annot=True, fmt='g' ,square=False)\n",
    "    ax.set_ylim(len(set(y_true)), 0)\n",
    "    plt.show()\n",
    "    \n",
    "    if report:\n",
    "        print('Classification Report')\n",
    "        print(classification_report(y_test, y_pred))\n",
    "\n",
    "Y_pred = model.predict(X_test)\n",
    "y_pred = np.argmax(Y_pred, axis=1)\n",
    "\n",
    "print_confusion_matrix(y_test, y_pred)"
   ]
  },
  {
   "cell_type": "markdown",
   "metadata": {},
   "source": [
    "# Tensorflow-Lite用のモデルへ変換"
   ]
  },
  {
   "cell_type": "code",
   "execution_count": 16,
   "metadata": {},
   "outputs": [],
   "source": [
    "# 推論専用のモデルとして保存\n",
    "model.save(model_save_path, include_optimizer=False)"
   ]
  },
  {
   "cell_type": "code",
   "execution_count": 17,
   "metadata": {},
   "outputs": [
    {
     "name": "stderr",
     "output_type": "stream",
     "text": [
      "WARNING:absl:Found untraced functions such as _update_step_xla while saving (showing 1 of 1). These functions will not be directly callable after loading.\n"
     ]
    },
    {
     "name": "stdout",
     "output_type": "stream",
     "text": [
      "INFO:tensorflow:Assets written to: C:\\Users\\rafae\\AppData\\Local\\Temp\\tmpreh0zhwj\\assets\n"
     ]
    },
    {
     "name": "stderr",
     "output_type": "stream",
     "text": [
      "INFO:tensorflow:Assets written to: C:\\Users\\rafae\\AppData\\Local\\Temp\\tmpreh0zhwj\\assets\n"
     ]
    },
    {
     "data": {
      "text/plain": [
       "6588"
      ]
     },
     "execution_count": 17,
     "metadata": {},
     "output_type": "execute_result"
    }
   ],
   "source": [
    "# モデルを変換(量子化)\n",
    "tflite_save_path = 'model/keypoint_classifier/keypoint_classifier.tflite'\n",
    "\n",
    "converter = tf.lite.TFLiteConverter.from_keras_model(model)\n",
    "converter.optimizations = [tf.lite.Optimize.DEFAULT]\n",
    "tflite_quantized_model = converter.convert()\n",
    "\n",
    "open(tflite_save_path, 'wb').write(tflite_quantized_model)"
   ]
  },
  {
   "cell_type": "markdown",
   "metadata": {},
   "source": [
    "# 推論テスト"
   ]
  },
  {
   "cell_type": "code",
   "execution_count": 18,
   "metadata": {},
   "outputs": [],
   "source": [
    "interpreter = tf.lite.Interpreter(model_path=tflite_save_path)\n",
    "interpreter.allocate_tensors()"
   ]
  },
  {
   "cell_type": "code",
   "execution_count": 19,
   "metadata": {},
   "outputs": [],
   "source": [
    "# 入出力テンソルを取得\n",
    "input_details = interpreter.get_input_details()\n",
    "output_details = interpreter.get_output_details()"
   ]
  },
  {
   "cell_type": "code",
   "execution_count": 20,
   "metadata": {},
   "outputs": [],
   "source": [
    "interpreter.set_tensor(input_details[0]['index'], np.array([X_test[0]]))"
   ]
  },
  {
   "cell_type": "code",
   "execution_count": 21,
   "metadata": {
    "scrolled": true
   },
   "outputs": [
    {
     "name": "stdout",
     "output_type": "stream",
     "text": [
      "CPU times: total: 0 ns\n",
      "Wall time: 0 ns\n"
     ]
    }
   ],
   "source": [
    "%%time\n",
    "# 推論実施\n",
    "interpreter.invoke()\n",
    "tflite_results = interpreter.get_tensor(output_details[0]['index'])"
   ]
  },
  {
   "cell_type": "code",
   "execution_count": 22,
   "metadata": {},
   "outputs": [
    {
     "name": "stdout",
     "output_type": "stream",
     "text": [
      "[6.1694956e-01 3.8058704e-01 2.4571468e-03 2.2746108e-06 3.8656726e-06]\n",
      "0\n"
     ]
    }
   ],
   "source": [
    "print(np.squeeze(tflite_results))\n",
    "print(np.argmax(np.squeeze(tflite_results)))"
   ]
  },
  {
   "cell_type": "code",
   "execution_count": null,
   "metadata": {},
   "outputs": [],
   "source": []
  }
 ],
 "metadata": {
  "kernelspec": {
   "display_name": "Python 3 (ipykernel)",
   "language": "python",
   "name": "python3"
  },
  "language_info": {
   "codemirror_mode": {
    "name": "ipython",
    "version": 3
   },
   "file_extension": ".py",
   "mimetype": "text/x-python",
   "name": "python",
   "nbconvert_exporter": "python",
   "pygments_lexer": "ipython3",
   "version": "3.8.9"
  }
 },
 "nbformat": 4,
 "nbformat_minor": 4
}
